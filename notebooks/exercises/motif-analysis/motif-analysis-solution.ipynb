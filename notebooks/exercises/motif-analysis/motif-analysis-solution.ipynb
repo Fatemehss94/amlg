{
 "cells": [
  {
   "cell_type": "markdown",
   "metadata": {},
   "source": [
    "# **Analysis of DNA Sequence Motifs**"
   ]
  },
  {
   "cell_type": "code",
   "execution_count": 1,
   "metadata": {},
   "outputs": [],
   "source": [
    "import numpy.typing as npt\n",
    "from typing import Any, Callable, List"
   ]
  },
  {
   "cell_type": "markdown",
   "metadata": {},
   "source": [
    "This exercise walks you through the application of a convolutional neural network (CNN) to DNA sequence data.\n",
    "\n",
    "We will use PyTorch as a neural network framework.\n",
    "While there is no shortage of content and tutorials on how to get started with PyTorch in general, in most cases images or language samples are taken as input data.\n",
    "For using DNA sequences as an input, there are many great projects out there that have developed PyTorch frameworks to model all sorts of biological phenomena.\n",
    "Examples include [Selene](https://github.com/FunctionLab/selene), [Basset](https://github.com/davek44/Basset), and [DNABERT](https://github.com/jerryji1993/DNABERT) as well as [DNABERT-2](https://github.com/Zhihan1996/DNABERT_2).\n",
    "However, thewe frameworks can be quite sophisticated and difficult to dive into.\n",
    "\n",
    "Hence, here we provide a more appropriate starting point for all future DNA modelers."
   ]
  },
  {
   "cell_type": "markdown",
   "metadata": {},
   "source": [
    "# Generation of synthetic DNA data"
   ]
  },
  {
   "cell_type": "markdown",
   "metadata": {},
   "source": [
    "Usually scientists might be interested in predicting something like a binding score, an expression strength, or identifying transcription factor binding events.\n",
    "But here, we are going to keep it simple: our goal is to observe if a deep learning model can learn to detect a very small, simple pattern in a DNA sequence and score it appropriately.\n",
    "\n",
    "So arbitrarily, let's say that given an 8-mer DNA sequence, give it points for each base as follows:\n",
    "\n",
    "- A = +20 points\n",
    "- C = +17 points\n",
    "- G = +14 points\n",
    "- T = +11 points\n",
    "\n",
    "Then, for every 8-mer, sum up its total points and then take the average.\n",
    "For example, `AAAA` would score $\\frac{20+20+20+20}{4}=20$.\n",
    "`ACAA` would score $\\frac{20+17+20+20}{4}=19.25$.\n",
    "\n",
    "> Keep in mind that hese values are arbitrary; we are only building our own simple system for demonstration purposes.\n",
    "\n",
    "Let's add one more thing to our scoring system.\n",
    "To simulate something like [motifs](https://en.wikipedia.org/wiki/Sequence_motif) influencing gene expression, a given sequence gets a +10 bump if `TAT` appears anywhere in the 8-mer, and a -10 bump if it has a `GCG` in it.\n",
    "\n",
    "> A sequence motif is a nucleotide or amino-acid sequence pattern that is widespread and usually assumed to be related to biological function of the macromolecule.\n",
    "> DNA sequence motifs are often represented as a [sequence logo](https://en.wikipedia.org/wiki/Sequence_logo)."
   ]
  },
  {
   "cell_type": "markdown",
   "metadata": {},
   "source": [
    "##### ❓ **Q1** &mdash; Scoring system"
   ]
  },
  {
   "cell_type": "markdown",
   "metadata": {},
   "source": [
    "Complete the following function to score a DNA sequence according to the scheme defined above."
   ]
  },
  {
   "cell_type": "code",
   "execution_count": 2,
   "metadata": {},
   "outputs": [],
   "source": [
    "import numpy as np\n",
    "\n",
    "\n",
    "def motif_score(sequence: str) -> float:\n",
    "    base_scores = {\"A\": 20, \"C\": 17, \"G\": 14, \"T\": 11}\n",
    "\n",
    "    # Single-base scoring\n",
    "    score = np.mean([base_scores[base] for base in sequence])\n",
    "\n",
    "    # Motif scoring\n",
    "    if \"TAT\" in sequence:\n",
    "        score += 10\n",
    "    if \"GCG\" in sequence:\n",
    "        score -= 10\n",
    "\n",
    "    return score"
   ]
  },
  {
   "cell_type": "code",
   "execution_count": 3,
   "metadata": {},
   "outputs": [
    {
     "name": "stdout",
     "output_type": "stream",
     "text": [
      "motif_score(AAAA) = 20.0\n",
      "motif_score(ACAA) = 19.25\n"
     ]
    }
   ],
   "source": [
    "sequence = \"AAAA\"\n",
    "print(f\"motif_score({sequence}) = {motif_score(sequence=sequence)}\")\n",
    "sequence = \"ACAA\"\n",
    "print(f\"motif_score({sequence}) = {motif_score(sequence=sequence)}\")"
   ]
  },
  {
   "cell_type": "markdown",
   "metadata": {},
   "source": [
    "##### ❓ **Q2** &mdash; Data generation"
   ]
  },
  {
   "cell_type": "markdown",
   "metadata": {},
   "source": [
    "Recall that _k_-mers are substrings of length $k$ contained within a biological sequence.\n",
    "Also, a sequence of length $L$ has $L - k + 1$ _k_-mers and $n^k$ total possible _k_-mers, where $n$ is the number of possible monomers.\n",
    "\n",
    "The following function generates a list of all possible _k_-mers for a given _k_."
   ]
  },
  {
   "cell_type": "code",
   "execution_count": 4,
   "metadata": {},
   "outputs": [],
   "source": [
    "from itertools import product\n",
    "\n",
    "\n",
    "def generate_all_kmers(k: int) -> List[str]:\n",
    "    return [\"\".join(x) for x in product([\"A\", \"C\", \"G\", \"T\"], repeat=k)]"
   ]
  },
  {
   "cell_type": "markdown",
   "metadata": {},
   "source": [
    "Generate all possible $4^8 = 65,536$ 8-mers (i.e., $n = 4$, $k = 8$).\n",
    "Then, compute the motif score for each 8-mer.\n",
    "Finally, store the results in a [`pandas.DataFrame`](https://pandas.pydata.org/docs/reference/api/pandas.DataFrame.html) with the columns `sequence` and `motif_score`."
   ]
  },
  {
   "cell_type": "code",
   "execution_count": 5,
   "metadata": {},
   "outputs": [
    {
     "data": {
      "text/html": [
       "<div>\n",
       "<style scoped>\n",
       "    .dataframe tbody tr th:only-of-type {\n",
       "        vertical-align: middle;\n",
       "    }\n",
       "\n",
       "    .dataframe tbody tr th {\n",
       "        vertical-align: top;\n",
       "    }\n",
       "\n",
       "    .dataframe thead th {\n",
       "        text-align: right;\n",
       "    }\n",
       "</style>\n",
       "<table border=\"1\" class=\"dataframe\">\n",
       "  <thead>\n",
       "    <tr style=\"text-align: right;\">\n",
       "      <th></th>\n",
       "      <th>sequence</th>\n",
       "      <th>motif_score</th>\n",
       "    </tr>\n",
       "  </thead>\n",
       "  <tbody>\n",
       "    <tr>\n",
       "      <th>0</th>\n",
       "      <td>AAAAAAAA</td>\n",
       "      <td>20.000</td>\n",
       "    </tr>\n",
       "    <tr>\n",
       "      <th>1</th>\n",
       "      <td>AAAAAAAC</td>\n",
       "      <td>19.625</td>\n",
       "    </tr>\n",
       "    <tr>\n",
       "      <th>2</th>\n",
       "      <td>AAAAAAAG</td>\n",
       "      <td>19.250</td>\n",
       "    </tr>\n",
       "    <tr>\n",
       "      <th>3</th>\n",
       "      <td>AAAAAAAT</td>\n",
       "      <td>18.875</td>\n",
       "    </tr>\n",
       "    <tr>\n",
       "      <th>4</th>\n",
       "      <td>AAAAAACA</td>\n",
       "      <td>19.625</td>\n",
       "    </tr>\n",
       "  </tbody>\n",
       "</table>\n",
       "</div>"
      ],
      "text/plain": [
       "   sequence  motif_score\n",
       "0  AAAAAAAA       20.000\n",
       "1  AAAAAAAC       19.625\n",
       "2  AAAAAAAG       19.250\n",
       "3  AAAAAAAT       18.875\n",
       "4  AAAAAACA       19.625"
      ]
     },
     "execution_count": 5,
     "metadata": {},
     "output_type": "execute_result"
    }
   ],
   "source": [
    "import pandas as pd\n",
    "\n",
    "eightmers = generate_all_kmers(k=8)\n",
    "data = []\n",
    "for sequence in eightmers:\n",
    "    data.append([sequence, motif_score(sequence=sequence)])\n",
    "df = pd.DataFrame(data, columns=[\"sequence\", \"motif_score\"])\n",
    "df.head()"
   ]
  },
  {
   "cell_type": "markdown",
   "metadata": {},
   "source": [
    "# Data preprocessing"
   ]
  },
  {
   "cell_type": "markdown",
   "metadata": {},
   "source": [
    "## Training set & validation set"
   ]
  },
  {
   "cell_type": "markdown",
   "metadata": {},
   "source": [
    "##### ❓ **Q3** &mdash; Data split"
   ]
  },
  {
   "cell_type": "markdown",
   "metadata": {},
   "source": [
    "First things first: split the data randomly into a training set (80%) and a validation set (20%).\n",
    "\n",
    "> Feel free to use the [train_test_split()](https://scikit-learn.org/stable/modules/generated/sklearn.model_selection.train_test_split.html) function."
   ]
  },
  {
   "cell_type": "code",
   "execution_count": 6,
   "metadata": {},
   "outputs": [
    {
     "name": "stdout",
     "output_type": "stream",
     "text": [
      "Training set\n",
      "------------\n",
      "Dataframe shape: (52428, 2)\n",
      "Dataframe head:\n",
      "       sequence  motif_score\n",
      "108    AAAACGTA       17.750\n",
      "2440   AAGCGAGA        7.375\n",
      "35243  GAGCGGGT        4.750\n",
      "53679  TCACGGTT       14.375\n",
      "25971  CGCCCTAT       25.500\n",
      "\n",
      "Validation set\n",
      "--------------\n",
      "Dataframe shape: (13108, 2)\n",
      "Dataframe head:\n",
      "       sequence  motif_score\n",
      "63127  TTCGGCCT       14.000\n",
      "41103  GGAAGATT       15.500\n",
      "3989   AATTGCCC       15.875\n",
      "37213  GCACCCTC       16.250\n",
      "30665  CTCTTAGC       14.750\n"
     ]
    }
   ],
   "source": [
    "import os\n",
    "from sklearn.model_selection import train_test_split\n",
    "\n",
    "train_df, val_df = train_test_split(df, train_size=0.8, random_state=42)\n",
    "\n",
    "print(f\"Training set{os.linesep}------------\")\n",
    "print(f\"Dataframe shape: {train_df.shape}\")\n",
    "print(f\"Dataframe head:{os.linesep}{train_df.head()}\")\n",
    "print(\"\")\n",
    "print(f\"Validation set{os.linesep}--------------\")\n",
    "print(f\"Dataframe shape: {val_df.shape}\")\n",
    "print(f\"Dataframe head:{os.linesep}{val_df.head()}\")"
   ]
  },
  {
   "cell_type": "markdown",
   "metadata": {},
   "source": [
    "## One-hot encoding"
   ]
  },
  {
   "cell_type": "markdown",
   "metadata": {},
   "source": [
    "Recall that for neural networks to make predictions, in general you have to give it your input as a matrix of numbers.\n",
    "While for example images are by definition already matrices of numbers, we have to put in some extra work for our DNA sequences.\n",
    "\n",
    "We will use one-hot encoding for our DNA sequences.\n",
    "The following function performs the one-hot encoding."
   ]
  },
  {
   "cell_type": "code",
   "execution_count": 7,
   "metadata": {},
   "outputs": [],
   "source": [
    "def one_hot_encode(sequence: str) -> npt.NDArray[Any]:\n",
    "    code = {\n",
    "        \"A\": [1.0, 0.0, 0.0, 0.0],\n",
    "        \"C\": [0.0, 1.0, 0.0, 0.0],\n",
    "        \"G\": [0.0, 0.0, 1.0, 0.0],\n",
    "        \"T\": [0.0, 0.0, 0.0, 1.0],\n",
    "        \"N\": [0.0, 0.0, 0.0, 0.0],\n",
    "    }\n",
    "    return np.array([code[base] for base in sequence])"
   ]
  },
  {
   "cell_type": "code",
   "execution_count": 8,
   "metadata": {},
   "outputs": [
    {
     "name": "stdout",
     "output_type": "stream",
     "text": [
      "one_hot_encode(GATTACA) =\n",
      "[[0. 0. 1. 0.]\n",
      " [1. 0. 0. 0.]\n",
      " [0. 0. 0. 1.]\n",
      " [0. 0. 0. 1.]\n",
      " [1. 0. 0. 0.]\n",
      " [0. 1. 0. 0.]\n",
      " [1. 0. 0. 0.]]\n"
     ]
    }
   ],
   "source": [
    "sequence = \"GATTACA\"\n",
    "print(f\"one_hot_encode({sequence}) =\")\n",
    "print(f\"{one_hot_encode(sequence=sequence)}\")"
   ]
  },
  {
   "cell_type": "markdown",
   "metadata": {},
   "source": [
    "## Building a PyTorch dataset"
   ]
  },
  {
   "cell_type": "markdown",
   "metadata": {},
   "source": [
    "In PyTorch, a dataset is represented by a regular Python class that inherits from the [Dataset](https://pytorch.org/docs/stable/data.html#torch.utils.data.Dataset) class.\n",
    "You can think of it as a kind of a Python _list of tuples_, each tuple corresponding to one data point (features, label).\n",
    "\n",
    "The most fundamental methods it needs to implement are:\n",
    "\n",
    "- `__init__()`: it takes whatever arguments needed to build a list of tuples. This may be a CSV file that will be loaded and processed; it may be two tensors, one for features, another one for labels; or anything else, depending on the task at hand. However, there is no need to load the entire dataset here in the constructor. Indeed, if your dataset is big it is recommended to load data on demand, i.e., whenever `__get_item__()` is called.\n",
    "- `__get_item__()`: it allows the dataset to be indexed, so that it can work like a list (`dataset[i]`). It must return a tuple (features, label) corresponding to the requested data point. We can either return the corresponding slices of our pre-loaded dataset or, as mentioned above, load them on demand.\n",
    "- `__len__()`: it should simply return the size of the entire dataset.\n",
    "\n",
    "Then, with a PyTorch dataset available, we have the opportunity of using PyTorch's [DataLoader](https://pytorch.org/docs/stable/data.html#torch.utils.data.DataLoader) class for loading our data."
   ]
  },
  {
   "cell_type": "markdown",
   "metadata": {},
   "source": [
    "##### ❓ **Q4** &mdash; Building a custom PyTorch dataset"
   ]
  },
  {
   "cell_type": "markdown",
   "metadata": {},
   "source": [
    "Let's build our own simple custom dataset that takes our dataframe (with the columns `sequence` and `motif_score`) as input. Complete the following code."
   ]
  },
  {
   "cell_type": "code",
   "execution_count": 9,
   "metadata": {},
   "outputs": [],
   "source": [
    "from torch.utils.data import Dataset\n",
    "import torch\n",
    "\n",
    "\n",
    "class MotifScoreDataset(Dataset):\n",
    "    def __init__(self, df: pd.DataFrame) -> None:\n",
    "        # Features\n",
    "        sequences = list(df[\"sequence\"].values)\n",
    "        self.ohe_sequences = torch.stack(\n",
    "            tensors=[torch.tensor(data=one_hot_encode(sequence=s)) for s in sequences]\n",
    "        )  # this will be a (n_items x sequence_len x ohe_len) tensor\n",
    "\n",
    "        # Labels\n",
    "        motif_scores = list(df[\"motif_score\"].values)\n",
    "        self.motif_scores = torch.tensor(data=motif_scores).unsqueeze(\n",
    "            dim=1\n",
    "        )  # this will be a (n_items x 1) tensor\n",
    "\n",
    "    def __getitem__(self, index: int) -> tuple[torch.Tensor, torch.Tensor]:\n",
    "        features = self.ohe_sequences[index]\n",
    "        label = self.motif_scores[index]\n",
    "        return features, label\n",
    "\n",
    "    def __len__(self) -> int:\n",
    "        return self.ohe_sequences.shape[0]"
   ]
  },
  {
   "cell_type": "code",
   "execution_count": 10,
   "metadata": {},
   "outputs": [],
   "source": [
    "# Create the training and validation dataset from our dataframes\n",
    "train_dataset = MotifScoreDataset(df=train_df)\n",
    "val_dataset = MotifScoreDataset(df=val_df)"
   ]
  },
  {
   "cell_type": "code",
   "execution_count": 11,
   "metadata": {},
   "outputs": [
    {
     "name": "stdout",
     "output_type": "stream",
     "text": [
      "OHE sequence from dataframe:\n",
      "[[1. 0. 0. 0.]\n",
      " [1. 0. 0. 0.]\n",
      " [1. 0. 0. 0.]\n",
      " [1. 0. 0. 0.]\n",
      " [0. 1. 0. 0.]\n",
      " [0. 0. 1. 0.]\n",
      " [0. 0. 0. 1.]\n",
      " [1. 0. 0. 0.]]\n",
      "\n",
      "Motif score from dataframe: 17.75\n",
      "\n",
      "OHE sequence from dataset:\n",
      "tensor([[1., 0., 0., 0.],\n",
      "        [1., 0., 0., 0.],\n",
      "        [1., 0., 0., 0.],\n",
      "        [1., 0., 0., 0.],\n",
      "        [0., 1., 0., 0.],\n",
      "        [0., 0., 1., 0.],\n",
      "        [0., 0., 0., 1.],\n",
      "        [1., 0., 0., 0.]], dtype=torch.float64)\n",
      "\n",
      "Motif score from dataset: tensor([17.7500], dtype=torch.float64)\n"
     ]
    }
   ],
   "source": [
    "# Inspect the first item from the training dataframe\n",
    "train_df_head = train_df.head(n=1)\n",
    "train_df_ohe_sequence = one_hot_encode(sequence=train_df_head.iloc[0][\"sequence\"])\n",
    "train_df_motif_score = train_df_head.iloc[0][\"motif_score\"]\n",
    "print(f\"OHE sequence from dataframe:{os.linesep}{train_df_ohe_sequence}{os.linesep}\")\n",
    "print(f\"Motif score from dataframe: {train_df_motif_score}{os.linesep}\")\n",
    "\n",
    "# Inspect the first item from the training dataset\n",
    "datapoint_features, datapoint_label = train_dataset[0]\n",
    "print(f\"OHE sequence from dataset:{os.linesep}{datapoint_features}{os.linesep}\")\n",
    "print(f\"Motif score from dataset: {datapoint_label}\")"
   ]
  },
  {
   "cell_type": "code",
   "execution_count": 12,
   "metadata": {},
   "outputs": [],
   "source": [
    "from torch.utils.data import DataLoader\n",
    "\n",
    "batch_size = 128\n",
    "\n",
    "train_dataloader = DataLoader(\n",
    "    dataset=train_dataset, batch_size=batch_size, shuffle=True\n",
    ")\n",
    "val_dataloader = DataLoader(dataset=val_dataset, batch_size=batch_size)"
   ]
  },
  {
   "cell_type": "markdown",
   "metadata": {},
   "source": [
    "# Definition of a CNN model in PyTorch"
   ]
  },
  {
   "cell_type": "markdown",
   "metadata": {},
   "source": [
    "Here we will use a CNN that consists of four layers:\n",
    "\n",
    "1. [Conv1d](https://pytorch.org/docs/stable/generated/torch.nn.Conv1d.html): a 1D convolution over our sequences\n",
    "2. [ReLU](https://pytorch.org/docs/stable/generated/torch.nn.ReLU.html): the rectified linear unit (ReLU) activation function\n",
    "3. [Flatten](https://pytorch.org/docs/stable/generated/torch.flatten.html): to flatten the data into a one-dimensional tensor\n",
    "4. [Linear](https://pytorch.org/docs/stable/generated/torch.nn.Linear.html): a final linear transformation to infer an estimate for the motif score\n",
    "\n",
    "We will use PyTorch's [Sequential](https://pytorch.org/docs/stable/generated/torch.nn.Sequential.html) class to build a network in which the layers are automatically connected.\n",
    "\n",
    "Before implementing the CNN, we need to take a more detailed look into the convolutional layer:\n",
    "\n",
    "- We will input our one-hot encoded sequences (8-mers) into the convolutional layer.\n",
    "- Hence, the convolutional layer will have 4 input channels, where each channel corresponds to a specific position of a one-hot encoding. (Recall that our one-hot encodings have the length 4, because we encode the 4 bases A, C, G, and T. E.g., A is encoded as `[1 0 0 0]`.)\n",
    "- We will use 32 filters, i.e., kernels, in our convolutional layer.\n",
    "- Each filter/kernel will have a size $K$ of 3.\n",
    "- Hence, for each 4-channel input sequence of length $L$, the convolutional layer will produce a 32-channel output sequence of length $L - K + 1$."
   ]
  },
  {
   "cell_type": "markdown",
   "metadata": {},
   "source": [
    "##### ❓ **Q5** &mdash; Definition of a CNN model"
   ]
  },
  {
   "cell_type": "markdown",
   "metadata": {},
   "source": [
    "Complete the following code for a CNN model with the parameters as described above."
   ]
  },
  {
   "cell_type": "code",
   "execution_count": 13,
   "metadata": {},
   "outputs": [],
   "source": [
    "import torch.nn as nn\n",
    "\n",
    "\n",
    "class MotifScoreCNN(nn.Module):\n",
    "    def __init__(self, sequence_len: int) -> None:\n",
    "        super().__init__()\n",
    "\n",
    "        n_input_channels = 4  # i.e., length of our OHE scheme\n",
    "        n_filters = 32  # i.e., no. of kernels\n",
    "        kernel_size = 3\n",
    "        conv_out_len = sequence_len - kernel_size + 1\n",
    "\n",
    "        self.net = nn.Sequential(\n",
    "            nn.Conv1d(\n",
    "                in_channels=n_input_channels,\n",
    "                out_channels=n_filters,\n",
    "                kernel_size=kernel_size,\n",
    "            ),\n",
    "            nn.ReLU(inplace=True),\n",
    "            nn.Flatten(),\n",
    "            nn.Linear(in_features=n_filters * conv_out_len, out_features=1),\n",
    "        )\n",
    "\n",
    "    def forward(self, x: torch.Tensor) -> torch.float:\n",
    "        # Our data loader provides batches with dimensions\n",
    "        # (n_items x sequence_len x ohe_len). We hence have to switch the\n",
    "        # second and third dimension before passing the data to our network.\n",
    "        x = x.permute(0, 2, 1)\n",
    "        return self.net(x)"
   ]
  },
  {
   "cell_type": "markdown",
   "metadata": {},
   "source": [
    "# Training & evaluation"
   ]
  },
  {
   "cell_type": "markdown",
   "metadata": {},
   "source": [
    "##### ❓ **Q6** &mdash; Training and validation functions"
   ]
  },
  {
   "cell_type": "markdown",
   "metadata": {},
   "source": [
    "In the training process, we expose our CNN model multiple times (`n_epochs` times, to be precise) to the entire dataset.\n",
    "In each epoch, the `train_step()` and `val_step()` functions will be called.\n",
    "In each of these functions we iterate in batches through our training and validation sets.\n",
    "\n",
    "Complete the following code for the training and validation steps."
   ]
  },
  {
   "cell_type": "code",
   "execution_count": 14,
   "metadata": {},
   "outputs": [],
   "source": [
    "import torch.utils.data\n",
    "\n",
    "\n",
    "def make_train_step(\n",
    "    model: torch.nn.Module,\n",
    "    dataloader: torch.utils.data.DataLoader,\n",
    "    loss_fn: torch.nn.modules.loss._Loss,\n",
    "    optimizer: torch.optim.Optimizer,\n",
    "    device: str,\n",
    ") -> Callable:\n",
    "    def train_step() -> float:\n",
    "        model.train()\n",
    "        losses = []\n",
    "\n",
    "        for x_batch, y_batch in dataloader:\n",
    "            # Send the batches to the device where the model \"lives\"\n",
    "            x_batch = x_batch.to(device)\n",
    "            y_batch = y_batch.to(device)\n",
    "\n",
    "            # Forward pass & loss\n",
    "            y_batch_hat = model(x_batch.float())\n",
    "            loss = loss_fn(y_batch_hat, y_batch.float())\n",
    "            losses.append(loss.item())\n",
    "\n",
    "            # Gradients & parameter update\n",
    "            loss.backward()\n",
    "            optimizer.step()\n",
    "            optimizer.zero_grad()\n",
    "\n",
    "        return np.mean(losses)\n",
    "\n",
    "    return train_step\n",
    "\n",
    "\n",
    "def make_val_step(\n",
    "    model: torch.nn.Module,\n",
    "    dataloader: torch.utils.data.DataLoader,\n",
    "    loss_fn: torch.nn.modules.loss._Loss,\n",
    "    device: str,\n",
    ") -> Callable:\n",
    "    def val_step() -> float:\n",
    "        model.eval()\n",
    "        losses = []\n",
    "\n",
    "        # Even though it won't make a difference in our simple model, it is\n",
    "        # good practice to wrap the validation inner loop with this context\n",
    "        # manager to disable any gradient calculation that you may\n",
    "        # inadvertently trigger. Gradients belong in training, not in\n",
    "        # validation.\n",
    "        with torch.no_grad():\n",
    "            for x_batch, y_batch in dataloader:\n",
    "                # Send the batches to the device where the model \"lives\"\n",
    "                x_batch = x_batch.to(device)\n",
    "                y_batch = y_batch.to(device)\n",
    "\n",
    "                # Forward pass & loss\n",
    "                y_batch_hat = model(x_batch.float())\n",
    "                loss = loss_fn(y_batch_hat, y_batch.float())\n",
    "                losses.append(loss.item())\n",
    "\n",
    "        return np.mean(losses)\n",
    "\n",
    "    return val_step"
   ]
  },
  {
   "cell_type": "markdown",
   "metadata": {},
   "source": [
    "##### ❓ **Q7** &mdash; Running the model"
   ]
  },
  {
   "cell_type": "markdown",
   "metadata": {},
   "source": [
    "Finally, everything is set up to run our model.\n",
    "\n",
    "Complete the following code.\n",
    "Pay attention to track the training and validation losses."
   ]
  },
  {
   "cell_type": "code",
   "execution_count": 15,
   "metadata": {},
   "outputs": [
    {
     "name": "stdout",
     "output_type": "stream",
     "text": [
      "CUDA is not available on your system.\n",
      "Epoch [ 1/25] | train loss: 13.8454 | validation loss: 9.5588\n",
      "Epoch [ 2/25] | train loss: 7.3535 | validation loss: 5.8043\n",
      "Epoch [ 3/25] | train loss: 5.4205 | validation loss: 4.1919\n",
      "Epoch [ 4/25] | train loss: 4.1618 | validation loss: 2.7489\n",
      "Epoch [ 5/25] | train loss: 3.0029 | validation loss: 4.6335\n",
      "Epoch [ 6/25] | train loss: 2.1489 | validation loss: 1.6196\n",
      "Epoch [ 7/25] | train loss: 1.6877 | validation loss: 2.4046\n",
      "Epoch [ 8/25] | train loss: 1.5152 | validation loss: 1.9299\n",
      "Epoch [ 9/25] | train loss: 1.3291 | validation loss: 1.9376\n",
      "Epoch [10/25] | train loss: 1.2367 | validation loss: 1.0235\n",
      "Epoch [11/25] | train loss: 1.1417 | validation loss: 0.9751\n",
      "Epoch [12/25] | train loss: 1.1682 | validation loss: 1.0120\n",
      "Epoch [13/25] | train loss: 1.0523 | validation loss: 0.9632\n",
      "Epoch [14/25] | train loss: 1.0302 | validation loss: 0.9728\n",
      "Epoch [15/25] | train loss: 1.0661 | validation loss: 0.9588\n",
      "Epoch [16/25] | train loss: 1.0043 | validation loss: 1.2143\n",
      "Epoch [17/25] | train loss: 0.9730 | validation loss: 1.0636\n",
      "Epoch [18/25] | train loss: 0.9419 | validation loss: 0.9424\n",
      "Epoch [19/25] | train loss: 0.9297 | validation loss: 0.9391\n",
      "Epoch [20/25] | train loss: 0.9754 | validation loss: 1.3773\n",
      "Epoch [21/25] | train loss: 0.9211 | validation loss: 1.2005\n",
      "Epoch [22/25] | train loss: 0.9322 | validation loss: 0.9386\n",
      "Epoch [23/25] | train loss: 0.9317 | validation loss: 0.9369\n",
      "Epoch [24/25] | train loss: 0.9212 | validation loss: 0.9375\n",
      "Epoch [25/25] | train loss: 0.9149 | validation loss: 0.9983\n"
     ]
    }
   ],
   "source": [
    "device = \"cpu\"\n",
    "if torch.cuda.is_available():\n",
    "    print(\"CUDA is available on your system.\")\n",
    "    device = \"gpu\"\n",
    "else:\n",
    "    print(\"CUDA is not available on your system.\")\n",
    "\n",
    "lr = 0.01\n",
    "sequence_len = len(train_df[\"sequence\"].values[0])\n",
    "model = MotifScoreCNN(sequence_len=sequence_len).to(device=device)\n",
    "optimizer = torch.optim.SGD(model.parameters(), lr=lr)\n",
    "loss_fn = torch.nn.MSELoss()\n",
    "n_epochs = 25\n",
    "\n",
    "train_step = make_train_step(\n",
    "    model=model,\n",
    "    dataloader=train_dataloader,\n",
    "    loss_fn=loss_fn,\n",
    "    optimizer=optimizer,\n",
    "    device=device,\n",
    ")\n",
    "\n",
    "val_step = make_val_step(\n",
    "    model=model, dataloader=val_dataloader, loss_fn=loss_fn, device=device\n",
    ")\n",
    "\n",
    "train_losses = []\n",
    "val_losses = []\n",
    "\n",
    "for epoch in range(n_epochs):\n",
    "    train_loss = train_step()\n",
    "    train_losses.append(train_loss)\n",
    "\n",
    "    val_loss = val_step()\n",
    "    val_losses.append(val_loss)\n",
    "\n",
    "    print(\n",
    "        f\"Epoch [{(epoch + 1):2}/{n_epochs:2}] | train loss: {train_loss:.4f} | validation loss: {val_loss:.4f}\"\n",
    "    )"
   ]
  },
  {
   "cell_type": "markdown",
   "metadata": {},
   "source": [
    "##### ❓ **Q8** &mdash; Visualization of training and validation losses"
   ]
  },
  {
   "cell_type": "markdown",
   "metadata": {},
   "source": [
    "Finally, we can inspect the training and validation losses visually.\n",
    "Plot the training and validation losses in a single figure."
   ]
  },
  {
   "cell_type": "code",
   "execution_count": 16,
   "metadata": {},
   "outputs": [
    {
     "data": {
      "image/png": "[encoded data removed]",
      "text/plain": [
       "<Figure size 640x480 with 1 Axes>"
      ]
     },
     "metadata": {},
     "output_type": "display_data"
    }
   ],
   "source": [
    "import matplotlib.pyplot as plt\n",
    "\n",
    "plt.plot(train_losses, color=\"tab:blue\", label=\"Training\")\n",
    "plt.plot(val_losses, color=\"tab:orange\", label=\"Validation\")\n",
    "plt.xlabel(xlabel=\"Epoch\")\n",
    "plt.ylabel(ylabel=\"Loss\")\n",
    "plt.legend()\n",
    "plt.show()"
   ]
  }
 ],
 "metadata": {
  "kernelspec": {
   "display_name": "amlg",
   "language": "python",
   "name": "python3"
  },
  "language_info": {
   "codemirror_mode": {
    "name": "ipython",
    "version": 3
   },
   "file_extension": ".py",
   "mimetype": "text/x-python",
   "name": "python",
   "nbconvert_exporter": "python",
   "pygments_lexer": "ipython3",
   "version": "3.10.12"
  }
 },
 "nbformat": 4,
 "nbformat_minor": 2
}
