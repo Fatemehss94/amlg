{
 "cells": [
  {
   "attachments": {},
   "cell_type": "markdown",
   "metadata": {},
   "source": [
    "# **Naïve Compression of DNA Sequences**"
   ]
  },
  {
   "cell_type": "code",
   "execution_count": null,
   "metadata": {},
   "outputs": [],
   "source": [
    "from typing import Any, Dict, List"
   ]
  },
  {
   "attachments": {},
   "cell_type": "markdown",
   "metadata": {},
   "source": [
    "# Quantification of information\n",
    "\n",
    "Information theory is based on the observation that knowing that a likely event has occurred is less informative than knowing that an unlikely event has occurred.\n",
    "\n",
    "A quantification of information should have the following properties:\n",
    "- Likely events should have a low information content, and events that are certain to occur should have no information content at all. Less likely events should have a higher information content.\n",
    "- Independent events should have additive information content.\n",
    "\n",
    "The self-information of an event $x$ is hence defined as\n",
    "\n",
    "$$I(x)=-\\log{}P(x).$$\n",
    "\n",
    "By using the base-2 logarithm, the unit of self-information is bit.\n",
    "Hence, one bit is the amount of information gained by observing an event of probability $\\frac{1}{2}$.\n",
    "\n",
    "Self-information deals only with a single event $x$.\n",
    "By computing the expectation of the self-information with respect to the entire probability distribution $P(\\text{x})$ we obtain the entropy\n",
    "\n",
    "$$H(\\text{x})=\\mathbb{E}_{\\text{x}\\sim{}P}[I(\\text{x}=x)]=-\\mathbb{E}_{\\text{x}\\sim{}P}[\\log{}P(\\text{x}=x)]=-\\sum_{x}P(x)\\log{}P(x).$$\n",
    "\n",
    "The entropy gives the average information that is expected in an event $x$ drawn from probability distribution $P(\\text{x})$."
   ]
  },
  {
   "cell_type": "markdown",
   "metadata": {},
   "source": [
    "##### ❓ **Q1** &mdash; Computing entropy"
   ]
  },
  {
   "cell_type": "markdown",
   "metadata": {},
   "source": [
    "Complete the function `entropy()` to compute the entropy of the given sequence.\n",
    "Then, compute the entropy in bit per symbol of the sequences `AAAA`, `AACC`, `ACGT`."
   ]
  },
  {
   "cell_type": "code",
   "execution_count": null,
   "metadata": {},
   "outputs": [],
   "source": [
    "import collections\n",
    "import math\n",
    "\n",
    "\n",
    "def entropy(data: Any, base: int = 2) -> float:\n",
    "    if len(data) <= 1:\n",
    "        return 0.0\n",
    "\n",
    "    counts = collections.Counter()\n",
    "    for datum in data:\n",
    "        counts[datum] += 1\n",
    "\n",
    "    eta = 0.0\n",
    "\n",
    "    # YOUR CODE\n",
    "\n",
    "    return eta"
   ]
  },
  {
   "cell_type": "code",
   "execution_count": null,
   "metadata": {},
   "outputs": [],
   "source": [
    "for sequence in [\"AAAA\", \"AACC\", \"ACGT\"]:\n",
    "    # YOUR CODE"
   ]
  },
  {
   "cell_type": "markdown",
   "metadata": {},
   "source": [
    "# The FASTQ format"
   ]
  },
  {
   "attachments": {},
   "cell_type": "markdown",
   "metadata": {},
   "source": [
    "The [FASTQ format](https://en.wikipedia.org/wiki/FASTQ_format) is the de-facto standard for storing both a biological sequence (usually nucleotide sequence) and its corresponding quality scores.\n",
    "Both the sequence letter and quality score are each encoded with a single ASCII character.\n",
    "\n",
    "Each sequence, i.e., read, is represented by a single FASTQ record, which consists of four lines:\n",
    "- The first line contains the **read identifier**. It starts with `@`. Typically, sequencing machine vendors generate read identifiers in a proprietary systematic way.\n",
    "- The second line contains the **sequence**, where each symbol is represented with a single ASCII character.\n",
    "- The third line starts with `+` and contains an optional **description**. Usually this line is left empty; it then only contains `+` as separator between the sequence and the quality scores.\n",
    "- The fourth line contains the **quality scores**. A quality score is a value indicating the confidence in a base call.\n",
    "\n",
    "The following function can be used to convert a FASTQ record into a dictionary:"
   ]
  },
  {
   "cell_type": "code",
   "execution_count": null,
   "metadata": {},
   "outputs": [],
   "source": [
    "def fastq_lines_to_dict(lines: List[str]) -> Dict[str, str]:\n",
    "    keys = [\"id\", \"seq\", \"desc\", \"qual\"]\n",
    "    return dict(zip(keys, lines))"
   ]
  },
  {
   "cell_type": "markdown",
   "metadata": {},
   "source": [
    "##### ❓ **Q2** &mdash; Parsing a FASTQ file"
   ]
  },
  {
   "attachments": {},
   "cell_type": "markdown",
   "metadata": {},
   "source": [
    "Complete the following code to parse the FASTQ file `example.fastq`.\n",
    "Print all FASTQ records in the following format:\n",
    "\n",
    "```\n",
    "Record 0: {'id': '@id0', 'seq': 'GATTTG...', 'desc': '+', 'qual': \"!''*((...\"}\n",
    "Record 1: {'id': '@id1', 'seq': 'GATTTG...', 'desc': '+', 'qual': \"!''*((...\"}\n",
    "...\n",
    "```"
   ]
  },
  {
   "cell_type": "code",
   "execution_count": null,
   "metadata": {},
   "outputs": [],
   "source": [
    "def read_fastq_file(file_path: str) -> List[Dict[str, str]]:\n",
    "    with open(file=file_path, mode=\"r\") as file:\n",
    "        records = []\n",
    "        lines = []\n",
    "        for line in file:\n",
    "            lines.append(line.rstrip())\n",
    "            # YOUR CODE\n",
    "\n",
    "        return records\n",
    "\n",
    "\n",
    "records = read_fastq_file(file_path=\"data/example.fastq\")\n",
    "for i, record in enumerate(records):\n",
    "    print(f\"Record {i:2}: {record}\")"
   ]
  },
  {
   "cell_type": "markdown",
   "metadata": {},
   "source": [
    "# Compression of nucleotide sequences"
   ]
  },
  {
   "cell_type": "markdown",
   "metadata": {},
   "source": [
    "##### ❓ **Q3** &mdash; Compressing DNA sequence reads"
   ]
  },
  {
   "attachments": {},
   "cell_type": "markdown",
   "metadata": {},
   "source": [
    "Concatenate all nucleotide sequences from the FASTQ file `example.fastq`.\n",
    "Compute the entropy (in bit per symbol) and the maximum (worst-case) compressed size in bit and byte.\n",
    "\n",
    "> The assumption here is that every well-designed compressor that makes uses of any statistics beyond the per-symbol probabilites must yield a compressed bitstream that is smaller or equal to the entropy.\n",
    "\n",
    "Then, use gzip to beat the estimated worst-case compression.\n",
    "\n",
    "> Use the functions `gzip.compress()` and `gzip.decompress()`.\n",
    "> Use UTF-8 encoding."
   ]
  },
  {
   "cell_type": "code",
   "execution_count": null,
   "metadata": {},
   "outputs": [],
   "source": [
    "import gzip\n",
    "import math\n",
    "\n",
    "# Concatenate all sequences\n",
    "seq = \"\"\n",
    "# YOUR CODE\n",
    "\n",
    "# Compute the entropy (in bit per symbol) and the maximum (worst-case)\n",
    "# compressed size in bit and byte\n",
    "# YOUR CODE\n",
    "\n",
    "# Use gzip to beat the estimated worst-case compression\n",
    "# YOUR CODE"
   ]
  }
 ],
 "metadata": {
  "kernelspec": {
   "display_name": "edu-nb",
   "language": "python",
   "name": "python3"
  },
  "language_info": {
   "codemirror_mode": {
    "name": "ipython",
    "version": 3
   },
   "file_extension": ".py",
   "mimetype": "text/x-python",
   "name": "python",
   "nbconvert_exporter": "python",
   "pygments_lexer": "ipython3",
   "version": "3.11.6"
  },
  "orig_nbformat": 4,
  "vscode": {
   "interpreter": {
    "hash": "dc88d501059dbe4664d476be9d25417f6625518111063b606c3c193499af6026"
   }
  }
 },
 "nbformat": 4,
 "nbformat_minor": 2
}
