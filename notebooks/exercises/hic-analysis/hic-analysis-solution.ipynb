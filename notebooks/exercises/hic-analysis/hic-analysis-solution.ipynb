{
 "cells": [
  {
   "cell_type": "markdown",
   "metadata": {},
   "source": [
    "# **Reconstruction of 3D Genome Structure**"
   ]
  },
  {
   "cell_type": "code",
   "execution_count": 1,
   "metadata": {},
   "outputs": [
    {
     "name": "stdout",
     "output_type": "stream",
     "text": [
      "Intel MKL WARNING: Support of Intel(R) Streaming SIMD Extensions 4.2 (Intel(R) SSE4.2) enabled only processors has been deprecated. Intel oneAPI Math Kernel Library 2025.0 will require Intel(R) Advanced Vector Extensions (Intel(R) AVX) instructions.\n",
      "Intel MKL WARNING: Support of Intel(R) Streaming SIMD Extensions 4.2 (Intel(R) SSE4.2) enabled only processors has been deprecated. Intel oneAPI Math Kernel Library 2025.0 will require Intel(R) Advanced Vector Extensions (Intel(R) AVX) instructions.\n"
     ]
    }
   ],
   "source": [
    "import numpy.typing as npt\n",
    "from typing import Any"
   ]
  },
  {
   "cell_type": "markdown",
   "metadata": {},
   "source": [
    "Not all biological processes can be explained by genomic variations alone.\n",
    "Epigenetics is the study of changes in gene activity that do not involve alterations in the DNA sequence itself.\n",
    "\n",
    "One aspect of epigenetics is the role of chromosome folding in the nucleus which has different biological impacts, most importantly on [transcriptional regulation](https://en.wikipedia.org/wiki/Transcriptional_regulation) (the disruption of which can lead to disease).\n",
    "The human genome is very long when stretched end-to-end, yet it forms a dense packing in the nucleus, and hierarchical structures such as ([interphase](https://en.wikipedia.org/wiki/Interphase)) chromosome territories, A/B compartments, topologically associating domains (TADs), and chromatin loops can be observed.\n",
    "\n",
    "> A/B compartment-associated regions are on the multi-Mb scale and correlate with either open and expression-active chromatin (\"A\" compartments) or closed and expression-inactive chromatin (\"B\" compartments).\n",
    "> A compartments tend to be gene-rich, have high GC-content, contain histone markers for active transcription, and usually displace the interior of the nucleus.\n",
    "> B compartments, on the other hand, tend to be gene-poor, compact, contain histone markers for gene silencing, and lie on the nuclear periphery.\n",
    "\n",
    "> A TAD is a self-interacting genomic region, typically on the sub-Mb scale.\n",
    "> DNA sequences within a TAD physically interact with each other more frequently than with sequences outside the TAD.\n",
    "\n",
    "We can study chromosome structure through chromosome conformation capture techniques such as [Hi-C](https://en.wikipedia.org/wiki/Hi-C_(genomic_analysis_technique)).\n",
    "The Hi-C protocol is depicted in the following figure.\n",
    "\n",
    "<img src=\"images/hic-protocol.jpeg\" width=800 />\n",
    "\n",
    "First, the DNA is cross-linked to fix nearby regions.\n",
    "Then the DNA is cut with a restriction enzyme and both ends are filled and labeled with biotin.\n",
    "Note the use of a type III restriction enzyme that interacts with two separate DNA sequences in inversely repeated head-to-head orientations for efficient cleavage and later ligation.\n",
    "Hi-C uses high-throughput sequencing to find the nucleotide sequence of fragments and uses paired-end sequencing, which retrieves a short sequence from each end of each ligated fragment.\n",
    "As such, for a given ligated fragment, the two sequences obtained should represent two different restriction fragments that were ligated together in the proximity based ligation step.\n",
    "The pair of sequences are individually aligned to the genome, thus determining the fragments involved in that ligation event.\n",
    "Hence, all possible pairwise interactions between fragments are tested.\n",
    "Hi-C is capable of capturing the interactions between loci across chromosomes, i.e., genome-wide.\n",
    "\n",
    "The interactions (i.e., contacts) are then accumulated into a single matrix&nbsp;&mdash;&nbsp;the contact matrix $\\mathbf{C}$.\n",
    "Typically, these are intra-chromosomal contact matrices, representing interactions within a single chromosome.\n",
    "Each row and column of the matrix represents a small region in a chromosome.\n",
    "The size of these regions is referred to as \"resolution\" and is constant for the whole contact matrix.\n",
    "\n",
    "<img src=\"images/contact-matrix.png\" width=600 />\n",
    "\n",
    "The number of contacts is inversely related to the (Euclidean) distance in three-dimensional space, since neighboring regions are more likely to interact.\n",
    "Therefore, we can convert the contact matrix $\\mathbf{C}$ into a a proxy of the Euclidean distance matrix (EDM) $\\mathbf{D}$ using a conversion factor $\\alpha$:\n",
    "\n",
    "$$\n",
    "D_{i,j} = \\frac{1}{C^{\\alpha}_{i,j}}.\n",
    "$$\n",
    "\n",
    "An important point is that Hi-C and similar protocols cannot reveal all possible interacting regions, i.e., there are many zero entries in the contact matrix.\n",
    "We express this phenomenon with an observation operator $\\mathcal{P}_{\\mathbf{\\Omega}}$:\n",
    "\n",
    "$$\n",
    "\\begin{align}\n",
    "\\mathcal{P}_{\\mathbf{\\Omega}}(\\mathbf{C})_{i,j} = \n",
    "\\begin{cases}\n",
    "    C_{i,j}, & (i,j) \\in \\mathbf{\\Omega},\\\\\n",
    "    0, & \\text{otherwise}.\n",
    "\\end{cases}\n",
    "\\end{align}\n",
    "$$"
   ]
  },
  {
   "cell_type": "markdown",
   "metadata": {},
   "source": [
    "# Gram matrix and Euclidean distance matrix"
   ]
  },
  {
   "cell_type": "markdown",
   "metadata": {},
   "source": [
    "To estimate the three-dimensional structure of a chromosome given a set of observed interactions, we need to find the best point set representation&nbsp;&mdash;&nbsp;the positions of the DNA in space&nbsp;&mdash;&nbsp;given the set of observed interactions.\n",
    "This problem is called [multidimensional scaling](https://en.wikipedia.org/wiki/Multidimensional_scaling) (MDS).\n",
    "\n",
    "We define a set of $n$ points in $d$-dimensional space as a $d\\times n$ coordinate matrix\n",
    "\n",
    "$$\n",
    "\\mathbf{P} = \n",
    "\\begin{bmatrix}\n",
    "    \\mathbf{p}_1 &\n",
    "    \\mathbf{p}_2 &\n",
    "    \\cdots &\n",
    "    \\mathbf{p}_i &\n",
    "    \\cdots &\n",
    "    \\mathbf{p}_n\n",
    "\\end{bmatrix}\n",
    "$$\n",
    "\n",
    "where $\\mathbf{p}_i \\in \\mathbb{R}^{d}$ is the coordinate vector of $i$-th point in $d$-dimensional space.\n",
    "\n",
    "The Gram matrix $\\mathbf{G} \\in \\mathbb{R}^{n\\times n}$ of a coordinate matrix $\\mathbf{P}$ is defined as the inner product of all possible pairs of coordinate vectors:\n",
    "\n",
    "$$\n",
    "{G}_{i,j} \\coloneqq \\langle \\mathbf{p}_i, \\mathbf{p}_j \\rangle = \\mathbf{p}_i^T \\mathbf{p}_j.\n",
    "$$\n",
    "\n",
    "Interestingly the EDM $\\mathbf{D}$ can be computed from the Gram matrix $\\mathbf{G}$ as\n",
    "\n",
    "$$\n",
    "\\mathbf{D} = \\text{diag}(\\mathbf{G})\\mathbf{1}^T + \\mathbf{1}\\text{diag}(\\mathbf{G})^T - 2\\mathbf{G},\n",
    "$$\n",
    "\n",
    "where $\\mathbf{1}$ is the $d$-dimensional ones vector, and $\\text{diag}(\\mathbf{\\cdot})$ is the operation that takes the diagonal of a matrix and creates a vector out of it.\n",
    "\n",
    "Note that the EDM does not contain information about the absolute position and the orientation of the points in the coordinate matrix.\n",
    "In other words, the EDM in invariant to rigid transformations (i.e., translation and rotation), including reflections, since these do not change the distances between points."
   ]
  },
  {
   "cell_type": "markdown",
   "metadata": {},
   "source": [
    "##### ❓ **Q1.1** &mdash; Gram matrix"
   ]
  },
  {
   "cell_type": "markdown",
   "metadata": {},
   "source": [
    "Create a function named `coord2gram` that computes the Gram matrix from a coordinate matrix."
   ]
  },
  {
   "cell_type": "code",
   "execution_count": 2,
   "metadata": {},
   "outputs": [],
   "source": [
    "import numpy as np\n",
    "\n",
    "\n",
    "def coord2gram(coord_mat: npt.NDArray[Any]) -> npt.NDArray[Any]:\n",
    "    return coord_mat.T @ coord_mat"
   ]
  },
  {
   "cell_type": "code",
   "execution_count": 3,
   "metadata": {},
   "outputs": [],
   "source": [
    "p_1 = np.array([1, 0, 2])\n",
    "p_2 = np.array([1, 1, 2])\n",
    "coord_mat = np.stack((p_1, p_2)).T\n",
    "gram_mat = coord2gram(coord_mat=coord_mat)"
   ]
  },
  {
   "cell_type": "markdown",
   "metadata": {},
   "source": [
    "##### ❓ **Q1.2** &mdash; EDM"
   ]
  },
  {
   "cell_type": "markdown",
   "metadata": {},
   "source": [
    "Create a function named `gram2edm` that computes the EDM from a Gram matrix."
   ]
  },
  {
   "cell_type": "code",
   "execution_count": 4,
   "metadata": {},
   "outputs": [],
   "source": [
    "def gram2edm(gram_mat: npt.NDArray[Any]) -> npt.NDArray[Any]:\n",
    "    diag_vec = np.diag(gram_mat).reshape((-1, 1))\n",
    "    n, _ = gram_mat.shape\n",
    "    ones_vec = np.ones(shape=(n, 1))\n",
    "    ed_mat = diag_vec @ ones_vec.T + ones_vec * diag_vec.T - 2 * gram_mat\n",
    "    return ed_mat"
   ]
  },
  {
   "cell_type": "code",
   "execution_count": 5,
   "metadata": {},
   "outputs": [
    {
     "name": "stdout",
     "output_type": "stream",
     "text": [
      "[[0. 1.]\n",
      " [1. 0.]]\n"
     ]
    }
   ],
   "source": [
    "p_1 = np.array([1, 0, 2])\n",
    "p_2 = np.array([1, 1, 2])\n",
    "coord_mat = np.stack((p_1, p_2)).T\n",
    "gram_mat = coord2gram(coord_mat=coord_mat)\n",
    "ed_mat = gram2edm(gram_mat=gram_mat)\n",
    "print(ed_mat)"
   ]
  },
  {
   "cell_type": "markdown",
   "metadata": {},
   "source": [
    "# Solving a simulated multi-dimensional scaling problem"
   ]
  },
  {
   "cell_type": "markdown",
   "metadata": {},
   "source": [
    "No we will try to solve an MDS problem using simulated data.\n",
    "For this task, we will use a spiral-shaped string of beads (i.e., points) as a model of a chromosome."
   ]
  },
  {
   "cell_type": "markdown",
   "metadata": {},
   "source": [
    "##### ❓ **Q2.1** &mdash; A spiral-shaped string of beads as chromosome proxy"
   ]
  },
  {
   "cell_type": "markdown",
   "metadata": {},
   "source": [
    "Use the provided spiral parameters.\n",
    "Compute the `x`, `y`, and `z` components of all beads and create a coordinate matrix `coord_mat` from them.\n",
    "\n",
    "> Hint: exploit the conversion from a cylindrical to a cartesian coordinate system."
   ]
  },
  {
   "cell_type": "code",
   "execution_count": 6,
   "metadata": {},
   "outputs": [],
   "source": [
    "SPIRAL_N_ROTATIONS = 4\n",
    "SPIRAL_N_POINTS = 100\n",
    "SPIRAL_HEIGHT = 1\n",
    "SPIRAL_RADIUS = 0.5\n",
    "\n",
    "spiral_end = SPIRAL_N_ROTATIONS * 2 * np.pi\n",
    "bead_indexes = np.arange(SPIRAL_N_POINTS)\n",
    "\n",
    "x = SPIRAL_RADIUS * np.cos((bead_indexes / SPIRAL_N_POINTS) * spiral_end)\n",
    "y = SPIRAL_RADIUS * np.sin((bead_indexes / SPIRAL_N_POINTS) * spiral_end)\n",
    "z = (bead_indexes / SPIRAL_N_POINTS) * SPIRAL_HEIGHT\n",
    "\n",
    "coord_mat = np.stack([x, y, z])"
   ]
  },
  {
   "cell_type": "code",
   "execution_count": 7,
   "metadata": {},
   "outputs": [
    {
     "data": {
      "application/vnd.plotly.v1+json": {
       "config": {
        "plotlyServerURL": "https://plot.ly"
       },
       "data": [
        {
         "hovertemplate": "x=%{x}<br>y=%{y}<br>z=%{z}<extra></extra>",
         "legendgroup": "",
         "marker": {
          "color": "#636efa",
          "symbol": "circle"
         },
         "mode": "markers",
         "name": "",
         "scene": "scene",
         "showlegend": false,
         "type": "scatter3d",
         "x": [
          0.5,
          0.48429158056431554,
          0.4381533400219318,
          0.3644843137107058,
          0.26791339748949833,
          0.15450849718747373,
          0.031395259764656756,
          -0.09369065729286241,
          -0.21288964578253639,
          -0.3187119948743448,
          -0.40450849718747367,
          -0.4648882429441257,
          -0.4960573506572389,
          -0.49605735065723894,
          -0.4648882429441256,
          -0.4045084971874737,
          -0.3187119948743448,
          -0.21288964578253608,
          -0.09369065729286231,
          0.031395259764656416,
          0.15450849718747361,
          0.267913397489498,
          0.36448431371070567,
          0.4381533400219318,
          0.4842915805643155,
          0.5,
          0.48429158056431554,
          0.4381533400219317,
          0.36448431371070544,
          0.2679133974894986,
          0.15450849718747386,
          0.03139525976465666,
          -0.09369065729286251,
          -0.21288964578253664,
          -0.31871199487434526,
          -0.4045084971874736,
          -0.4648882429441257,
          -0.49605735065723894,
          -0.496057350657239,
          -0.46488824294412584,
          -0.40450849718747384,
          -0.31871199487434554,
          -0.212889645782537,
          -0.09369065729286287,
          0.03139525976465629,
          0.1545084971874735,
          0.2679133974894983,
          0.3644843137107052,
          0.4381533400219315,
          0.4842915805643154,
          0.5,
          0.4842915805643156,
          0.43815334002193174,
          0.36448431371070555,
          0.26791339748949794,
          0.15450849718747312,
          0.0313952597646559,
          -0.09369065729286151,
          -0.21288964578253575,
          -0.3187119948743445,
          -0.4045084971874735,
          -0.4648882429441257,
          -0.49605735065723894,
          -0.496057350657239,
          -0.46488824294412556,
          -0.40450849718747395,
          -0.31871199487434426,
          -0.2128896457825363,
          -0.09369065729286125,
          0.031395259764655285,
          0.1545084971874734,
          0.26791339748949744,
          0.3644843137107058,
          0.43815334002193146,
          0.48429158056431565,
          0.5,
          0.4842915805643158,
          0.43815334002193185,
          0.3644843137107063,
          0.26791339748949805,
          0.1545084971874741,
          0.03139525976465602,
          -0.09369065729286052,
          -0.21288964578253564,
          -0.3187119948743437,
          -0.40450849718747345,
          -0.4648882429441253,
          -0.4960573506572389,
          -0.496057350657239,
          -0.4648882429441256,
          -0.404508497187474,
          -0.3187119948743444,
          -0.2128896457825364,
          -0.09369065729286137,
          0.03139525976465517,
          0.15450849718747325,
          0.26791339748949733,
          0.36448431371070567,
          0.4381533400219314,
          0.4842915805643156
         ],
         "y": [
          0,
          0.1243449435824274,
          0.24087683705085766,
          0.3422735529643443,
          0.42216396275100754,
          0.47552825814757677,
          0.4990133642141358,
          0.4911436253643443,
          0.45241352623300973,
          0.3852566213878946,
          0.2938926261462366,
          0.18406227634233907,
          0.06266661678215227,
          -0.06266661678215216,
          -0.18406227634233918,
          -0.2938926261462365,
          -0.3852566213878947,
          -0.4524135262330099,
          -0.49114362536434436,
          -0.4990133642141358,
          -0.4755282581475768,
          -0.42216396275100776,
          -0.3422735529643445,
          -0.24087683705085766,
          -0.12434494358242767,
          -1.2246467991473532e-16,
          0.12434494358242745,
          0.24087683705085786,
          0.34227355296434464,
          0.42216396275100737,
          0.4755282581475767,
          0.4990133642141358,
          0.4911436253643443,
          0.4524135262330096,
          0.3852566213878943,
          0.2938926261462367,
          0.184062276342339,
          0.06266661678215195,
          -0.06266661678215159,
          -0.18406227634233863,
          -0.2938926261462364,
          -0.385256621387894,
          -0.45241352623300946,
          -0.49114362536434425,
          -0.4990133642141358,
          -0.4755282581475769,
          -0.4221639627510076,
          -0.34227355296434486,
          -0.24087683705085813,
          -0.1243449435824278,
          -2.4492935982947064e-16,
          0.12434494358242731,
          0.24087683705085774,
          0.34227355296434453,
          0.42216396275100776,
          0.475528258147577,
          0.49901336421413583,
          0.49114362536434447,
          0.45241352623301,
          0.3852566213878949,
          0.29389262614623685,
          0.1840622763423391,
          0.06266661678215207,
          -0.06266661678215146,
          -0.18406227634233935,
          -0.2938926261462363,
          -0.38525662138789507,
          -0.4524135262330098,
          -0.4911436253643445,
          -0.4990133642141359,
          -0.4755282581475769,
          -0.4221639627510081,
          -0.34227355296434436,
          -0.24087683705085827,
          -0.12434494358242705,
          -3.6739403974420594e-16,
          0.12434494358242636,
          0.2408768370508576,
          0.3422735529643438,
          0.4221639627510077,
          0.47552825814757665,
          0.49901336421413583,
          0.4911436253643447,
          0.45241352623301007,
          0.3852566213878955,
          0.2938926261462369,
          0.18406227634234001,
          0.0626666167821522,
          -0.06266661678215134,
          -0.18406227634233924,
          -0.2938926261462362,
          -0.385256621387895,
          -0.45241352623300973,
          -0.4911436253643445,
          -0.4990133642141359,
          -0.47552825814757693,
          -0.42216396275100815,
          -0.3422735529643444,
          -0.24087683705085838,
          -0.12434494358242719
         ],
         "z": [
          0,
          0.01,
          0.02,
          0.03,
          0.04,
          0.05,
          0.06,
          0.07,
          0.08,
          0.09,
          0.1,
          0.11,
          0.12,
          0.13,
          0.14,
          0.15,
          0.16,
          0.17,
          0.18,
          0.19,
          0.2,
          0.21,
          0.22,
          0.23,
          0.24,
          0.25,
          0.26,
          0.27,
          0.28,
          0.29,
          0.3,
          0.31,
          0.32,
          0.33,
          0.34,
          0.35,
          0.36,
          0.37,
          0.38,
          0.39,
          0.4,
          0.41,
          0.42,
          0.43,
          0.44,
          0.45,
          0.46,
          0.47,
          0.48,
          0.49,
          0.5,
          0.51,
          0.52,
          0.53,
          0.54,
          0.55,
          0.56,
          0.57,
          0.58,
          0.59,
          0.6,
          0.61,
          0.62,
          0.63,
          0.64,
          0.65,
          0.66,
          0.67,
          0.68,
          0.69,
          0.7,
          0.71,
          0.72,
          0.73,
          0.74,
          0.75,
          0.76,
          0.77,
          0.78,
          0.79,
          0.8,
          0.81,
          0.82,
          0.83,
          0.84,
          0.85,
          0.86,
          0.87,
          0.88,
          0.89,
          0.9,
          0.91,
          0.92,
          0.93,
          0.94,
          0.95,
          0.96,
          0.97,
          0.98,
          0.99
         ]
        }
       ],
       "layout": {
        "legend": {
         "tracegroupgap": 0
        },
        "margin": {
         "t": 60
        },
        "scene": {
         "domain": {
          "x": [
           0,
           1
          ],
          "y": [
           0,
           1
          ]
         },
         "xaxis": {
          "title": {
           "text": "x"
          }
         },
         "yaxis": {
          "title": {
           "text": "y"
          }
         },
         "zaxis": {
          "title": {
           "text": "z"
          }
         }
        },
        "template": {
         "data": {
          "bar": [
           {
            "error_x": {
             "color": "#2a3f5f"
            },
            "error_y": {
             "color": "#2a3f5f"
            },
            "marker": {
             "line": {
              "color": "#E5ECF6",
              "width": 0.5
             },
             "pattern": {
              "fillmode": "overlay",
              "size": 10,
              "solidity": 0.2
             }
            },
            "type": "bar"
           }
          ],
          "barpolar": [
           {
            "marker": {
             "line": {
              "color": "#E5ECF6",
              "width": 0.5
             },
             "pattern": {
              "fillmode": "overlay",
              "size": 10,
              "solidity": 0.2
             }
            },
            "type": "barpolar"
           }
          ],
          "carpet": [
           {
            "aaxis": {
             "endlinecolor": "#2a3f5f",
             "gridcolor": "white",
             "linecolor": "white",
             "minorgridcolor": "white",
             "startlinecolor": "#2a3f5f"
            },
            "baxis": {
             "endlinecolor": "#2a3f5f",
             "gridcolor": "white",
             "linecolor": "white",
             "minorgridcolor": "white",
             "startlinecolor": "#2a3f5f"
            },
            "type": "carpet"
           }
          ],
          "choropleth": [
           {
            "colorbar": {
             "outlinewidth": 0,
             "ticks": ""
            },
            "type": "choropleth"
           }
          ],
          "contour": [
           {
            "colorbar": {
             "outlinewidth": 0,
             "ticks": ""
            },
            "colorscale": [
             [
              0,
              "#0d0887"
             ],
             [
              0.1111111111111111,
              "#46039f"
             ],
             [
              0.2222222222222222,
              "#7201a8"
             ],
             [
              0.3333333333333333,
              "#9c179e"
             ],
             [
              0.4444444444444444,
              "#bd3786"
             ],
             [
              0.5555555555555556,
              "#d8576b"
             ],
             [
              0.6666666666666666,
              "#ed7953"
             ],
             [
              0.7777777777777778,
              "#fb9f3a"
             ],
             [
              0.8888888888888888,
              "#fdca26"
             ],
             [
              1,
              "#f0f921"
             ]
            ],
            "type": "contour"
           }
          ],
          "contourcarpet": [
           {
            "colorbar": {
             "outlinewidth": 0,
             "ticks": ""
            },
            "type": "contourcarpet"
           }
          ],
          "heatmap": [
           {
            "colorbar": {
             "outlinewidth": 0,
             "ticks": ""
            },
            "colorscale": [
             [
              0,
              "#0d0887"
             ],
             [
              0.1111111111111111,
              "#46039f"
             ],
             [
              0.2222222222222222,
              "#7201a8"
             ],
             [
              0.3333333333333333,
              "#9c179e"
             ],
             [
              0.4444444444444444,
              "#bd3786"
             ],
             [
              0.5555555555555556,
              "#d8576b"
             ],
             [
              0.6666666666666666,
              "#ed7953"
             ],
             [
              0.7777777777777778,
              "#fb9f3a"
             ],
             [
              0.8888888888888888,
              "#fdca26"
             ],
             [
              1,
              "#f0f921"
             ]
            ],
            "type": "heatmap"
           }
          ],
          "heatmapgl": [
           {
            "colorbar": {
             "outlinewidth": 0,
             "ticks": ""
            },
            "colorscale": [
             [
              0,
              "#0d0887"
             ],
             [
              0.1111111111111111,
              "#46039f"
             ],
             [
              0.2222222222222222,
              "#7201a8"
             ],
             [
              0.3333333333333333,
              "#9c179e"
             ],
             [
              0.4444444444444444,
              "#bd3786"
             ],
             [
              0.5555555555555556,
              "#d8576b"
             ],
             [
              0.6666666666666666,
              "#ed7953"
             ],
             [
              0.7777777777777778,
              "#fb9f3a"
             ],
             [
              0.8888888888888888,
              "#fdca26"
             ],
             [
              1,
              "#f0f921"
             ]
            ],
            "type": "heatmapgl"
           }
          ],
          "histogram": [
           {
            "marker": {
             "pattern": {
              "fillmode": "overlay",
              "size": 10,
              "solidity": 0.2
             }
            },
            "type": "histogram"
           }
          ],
          "histogram2d": [
           {
            "colorbar": {
             "outlinewidth": 0,
             "ticks": ""
            },
            "colorscale": [
             [
              0,
              "#0d0887"
             ],
             [
              0.1111111111111111,
              "#46039f"
             ],
             [
              0.2222222222222222,
              "#7201a8"
             ],
             [
              0.3333333333333333,
              "#9c179e"
             ],
             [
              0.4444444444444444,
              "#bd3786"
             ],
             [
              0.5555555555555556,
              "#d8576b"
             ],
             [
              0.6666666666666666,
              "#ed7953"
             ],
             [
              0.7777777777777778,
              "#fb9f3a"
             ],
             [
              0.8888888888888888,
              "#fdca26"
             ],
             [
              1,
              "#f0f921"
             ]
            ],
            "type": "histogram2d"
           }
          ],
          "histogram2dcontour": [
           {
            "colorbar": {
             "outlinewidth": 0,
             "ticks": ""
            },
            "colorscale": [
             [
              0,
              "#0d0887"
             ],
             [
              0.1111111111111111,
              "#46039f"
             ],
             [
              0.2222222222222222,
              "#7201a8"
             ],
             [
              0.3333333333333333,
              "#9c179e"
             ],
             [
              0.4444444444444444,
              "#bd3786"
             ],
             [
              0.5555555555555556,
              "#d8576b"
             ],
             [
              0.6666666666666666,
              "#ed7953"
             ],
             [
              0.7777777777777778,
              "#fb9f3a"
             ],
             [
              0.8888888888888888,
              "#fdca26"
             ],
             [
              1,
              "#f0f921"
             ]
            ],
            "type": "histogram2dcontour"
           }
          ],
          "mesh3d": [
           {
            "colorbar": {
             "outlinewidth": 0,
             "ticks": ""
            },
            "type": "mesh3d"
           }
          ],
          "parcoords": [
           {
            "line": {
             "colorbar": {
              "outlinewidth": 0,
              "ticks": ""
             }
            },
            "type": "parcoords"
           }
          ],
          "pie": [
           {
            "automargin": true,
            "type": "pie"
           }
          ],
          "scatter": [
           {
            "fillpattern": {
             "fillmode": "overlay",
             "size": 10,
             "solidity": 0.2
            },
            "type": "scatter"
           }
          ],
          "scatter3d": [
           {
            "line": {
             "colorbar": {
              "outlinewidth": 0,
              "ticks": ""
             }
            },
            "marker": {
             "colorbar": {
              "outlinewidth": 0,
              "ticks": ""
             }
            },
            "type": "scatter3d"
           }
          ],
          "scattercarpet": [
           {
            "marker": {
             "colorbar": {
              "outlinewidth": 0,
              "ticks": ""
             }
            },
            "type": "scattercarpet"
           }
          ],
          "scattergeo": [
           {
            "marker": {
             "colorbar": {
              "outlinewidth": 0,
              "ticks": ""
             }
            },
            "type": "scattergeo"
           }
          ],
          "scattergl": [
           {
            "marker": {
             "colorbar": {
              "outlinewidth": 0,
              "ticks": ""
             }
            },
            "type": "scattergl"
           }
          ],
          "scattermapbox": [
           {
            "marker": {
             "colorbar": {
              "outlinewidth": 0,
              "ticks": ""
             }
            },
            "type": "scattermapbox"
           }
          ],
          "scatterpolar": [
           {
            "marker": {
             "colorbar": {
              "outlinewidth": 0,
              "ticks": ""
             }
            },
            "type": "scatterpolar"
           }
          ],
          "scatterpolargl": [
           {
            "marker": {
             "colorbar": {
              "outlinewidth": 0,
              "ticks": ""
             }
            },
            "type": "scatterpolargl"
           }
          ],
          "scatterternary": [
           {
            "marker": {
             "colorbar": {
              "outlinewidth": 0,
              "ticks": ""
             }
            },
            "type": "scatterternary"
           }
          ],
          "surface": [
           {
            "colorbar": {
             "outlinewidth": 0,
             "ticks": ""
            },
            "colorscale": [
             [
              0,
              "#0d0887"
             ],
             [
              0.1111111111111111,
              "#46039f"
             ],
             [
              0.2222222222222222,
              "#7201a8"
             ],
             [
              0.3333333333333333,
              "#9c179e"
             ],
             [
              0.4444444444444444,
              "#bd3786"
             ],
             [
              0.5555555555555556,
              "#d8576b"
             ],
             [
              0.6666666666666666,
              "#ed7953"
             ],
             [
              0.7777777777777778,
              "#fb9f3a"
             ],
             [
              0.8888888888888888,
              "#fdca26"
             ],
             [
              1,
              "#f0f921"
             ]
            ],
            "type": "surface"
           }
          ],
          "table": [
           {
            "cells": {
             "fill": {
              "color": "#EBF0F8"
             },
             "line": {
              "color": "white"
             }
            },
            "header": {
             "fill": {
              "color": "#C8D4E3"
             },
             "line": {
              "color": "white"
             }
            },
            "type": "table"
           }
          ]
         },
         "layout": {
          "annotationdefaults": {
           "arrowcolor": "#2a3f5f",
           "arrowhead": 0,
           "arrowwidth": 1
          },
          "autotypenumbers": "strict",
          "coloraxis": {
           "colorbar": {
            "outlinewidth": 0,
            "ticks": ""
           }
          },
          "colorscale": {
           "diverging": [
            [
             0,
             "#8e0152"
            ],
            [
             0.1,
             "#c51b7d"
            ],
            [
             0.2,
             "#de77ae"
            ],
            [
             0.3,
             "#f1b6da"
            ],
            [
             0.4,
             "#fde0ef"
            ],
            [
             0.5,
             "#f7f7f7"
            ],
            [
             0.6,
             "#e6f5d0"
            ],
            [
             0.7,
             "#b8e186"
            ],
            [
             0.8,
             "#7fbc41"
            ],
            [
             0.9,
             "#4d9221"
            ],
            [
             1,
             "#276419"
            ]
           ],
           "sequential": [
            [
             0,
             "#0d0887"
            ],
            [
             0.1111111111111111,
             "#46039f"
            ],
            [
             0.2222222222222222,
             "#7201a8"
            ],
            [
             0.3333333333333333,
             "#9c179e"
            ],
            [
             0.4444444444444444,
             "#bd3786"
            ],
            [
             0.5555555555555556,
             "#d8576b"
            ],
            [
             0.6666666666666666,
             "#ed7953"
            ],
            [
             0.7777777777777778,
             "#fb9f3a"
            ],
            [
             0.8888888888888888,
             "#fdca26"
            ],
            [
             1,
             "#f0f921"
            ]
           ],
           "sequentialminus": [
            [
             0,
             "#0d0887"
            ],
            [
             0.1111111111111111,
             "#46039f"
            ],
            [
             0.2222222222222222,
             "#7201a8"
            ],
            [
             0.3333333333333333,
             "#9c179e"
            ],
            [
             0.4444444444444444,
             "#bd3786"
            ],
            [
             0.5555555555555556,
             "#d8576b"
            ],
            [
             0.6666666666666666,
             "#ed7953"
            ],
            [
             0.7777777777777778,
             "#fb9f3a"
            ],
            [
             0.8888888888888888,
             "#fdca26"
            ],
            [
             1,
             "#f0f921"
            ]
           ]
          },
          "colorway": [
           "#636efa",
           "#EF553B",
           "#00cc96",
           "#ab63fa",
           "#FFA15A",
           "#19d3f3",
           "#FF6692",
           "#B6E880",
           "#FF97FF",
           "#FECB52"
          ],
          "font": {
           "color": "#2a3f5f"
          },
          "geo": {
           "bgcolor": "white",
           "lakecolor": "white",
           "landcolor": "#E5ECF6",
           "showlakes": true,
           "showland": true,
           "subunitcolor": "white"
          },
          "hoverlabel": {
           "align": "left"
          },
          "hovermode": "closest",
          "mapbox": {
           "style": "light"
          },
          "paper_bgcolor": "white",
          "plot_bgcolor": "#E5ECF6",
          "polar": {
           "angularaxis": {
            "gridcolor": "white",
            "linecolor": "white",
            "ticks": ""
           },
           "bgcolor": "#E5ECF6",
           "radialaxis": {
            "gridcolor": "white",
            "linecolor": "white",
            "ticks": ""
           }
          },
          "scene": {
           "xaxis": {
            "backgroundcolor": "#E5ECF6",
            "gridcolor": "white",
            "gridwidth": 2,
            "linecolor": "white",
            "showbackground": true,
            "ticks": "",
            "zerolinecolor": "white"
           },
           "yaxis": {
            "backgroundcolor": "#E5ECF6",
            "gridcolor": "white",
            "gridwidth": 2,
            "linecolor": "white",
            "showbackground": true,
            "ticks": "",
            "zerolinecolor": "white"
           },
           "zaxis": {
            "backgroundcolor": "#E5ECF6",
            "gridcolor": "white",
            "gridwidth": 2,
            "linecolor": "white",
            "showbackground": true,
            "ticks": "",
            "zerolinecolor": "white"
           }
          },
          "shapedefaults": {
           "line": {
            "color": "#2a3f5f"
           }
          },
          "ternary": {
           "aaxis": {
            "gridcolor": "white",
            "linecolor": "white",
            "ticks": ""
           },
           "baxis": {
            "gridcolor": "white",
            "linecolor": "white",
            "ticks": ""
           },
           "bgcolor": "#E5ECF6",
           "caxis": {
            "gridcolor": "white",
            "linecolor": "white",
            "ticks": ""
           }
          },
          "title": {
           "x": 0.05
          },
          "xaxis": {
           "automargin": true,
           "gridcolor": "white",
           "linecolor": "white",
           "ticks": "",
           "title": {
            "standoff": 15
           },
           "zerolinecolor": "white",
           "zerolinewidth": 2
          },
          "yaxis": {
           "automargin": true,
           "gridcolor": "white",
           "linecolor": "white",
           "ticks": "",
           "title": {
            "standoff": 15
           },
           "zerolinecolor": "white",
           "zerolinewidth": 2
          }
         }
        },
        "width": 800
       }
      }
     },
     "metadata": {},
     "output_type": "display_data"
    }
   ],
   "source": [
    "import plotly.express as px\n",
    "\n",
    "fig = px.scatter_3d(x=coord_mat[0, :], y=coord_mat[1, :], z=coord_mat[2, :])\n",
    "fig.update_layout(width=800)\n",
    "fig.show()"
   ]
  },
  {
   "cell_type": "markdown",
   "metadata": {},
   "source": [
    "##### ❓ **Q2.2** &mdash; Simulation of a Hi-C protocol"
   ]
  },
  {
   "cell_type": "markdown",
   "metadata": {},
   "source": [
    "Recall Hi-C and similar protocols cannot reveal all possible interacting regions, i.e., there are many zero entries in the contact matrix.\n",
    "We express this phenomenon with an observation operator $\\mathcal{P}_{\\mathbf{\\Omega}}$ (see above).\n",
    "\n",
    "Simulate a Hi-C protocol by computing the EDM from the spiral coordinate matrix.\n",
    "Then, sparsify the obtained EDM.\n",
    "(This simulates that not all possible interacting regions are revealed.)\n",
    "Retain 50% of the entries.\n",
    "Recall that the EDM is symmetrical; hence, the sparsification must reflect this property."
   ]
  },
  {
   "cell_type": "code",
   "execution_count": 8,
   "metadata": {},
   "outputs": [
    {
     "name": "stdout",
     "output_type": "stream",
     "text": [
      "Intel MKL WARNING: Support of Intel(R) Streaming SIMD Extensions 4.2 (Intel(R) SSE4.2) enabled only processors has been deprecated. Intel oneAPI Math Kernel Library 2025.0 will require Intel(R) Advanced Vector Extensions (Intel(R) AVX) instructions.\n"
     ]
    }
   ],
   "source": [
    "ed_mat = gram2edm(gram_mat=coord2gram(coord_mat=coord_mat))\n",
    "\n",
    "mask = np.random.randint(low=2, size=ed_mat.shape, dtype=bool)\n",
    "mask = np.triu(mask)\n",
    "mask = mask + mask.T\n",
    "\n",
    "partial_ed_mat = ed_mat.copy()\n",
    "partial_ed_mat[~mask] = 0"
   ]
  },
  {
   "cell_type": "code",
   "execution_count": 9,
   "metadata": {},
   "outputs": [
    {
     "data": {
      "text/plain": [
       "<matplotlib.image.AxesImage at 0x139dc7990>"
      ]
     },
     "execution_count": 9,
     "metadata": {},
     "output_type": "execute_result"
    },
    {
     "data": {
      "image/png": "[encoded data removed]",
      "text/plain": [
       "<Figure size 640x480 with 2 Axes>"
      ]
     },
     "metadata": {},
     "output_type": "display_data"
    }
   ],
   "source": [
    "import matplotlib.pyplot as plt\n",
    "\n",
    "fig = plt.figure()\n",
    "ax1 = fig.add_subplot(1, 2, 1)\n",
    "ax1.set_title(label=\"EDM\")\n",
    "ax1.imshow(ed_mat)\n",
    "ax1 = fig.add_subplot(1, 2, 2)\n",
    "sparsity = mask.sum() / np.prod(mask.shape)\n",
    "ax1.set_title(label=f\"Sparse EDM (sparsity: {sparsity})\")\n",
    "ax1.imshow(partial_ed_mat)"
   ]
  },
  {
   "cell_type": "markdown",
   "metadata": {},
   "source": [
    "##### ❓ **Q2.3** &mdash; Preparation for the estimation (using PyTorch) of the true 3D structure"
   ]
  },
  {
   "cell_type": "markdown",
   "metadata": {},
   "source": [
    "The next step is to estimate the 3D structure of the spiral from the sparsified EDM using an optimization routine from PyTorch.\n",
    "\n",
    "To estimate the 3D structure given a set of observed interactions, we need to find the best point set representation given the set of observed interactions.\n",
    "Hence, as a first step, we need to initialize a point set.\n",
    "\n",
    "Recall that we are working with tensors in PyTorch.\n",
    "\n",
    "> In PyTorch, tensors are multi-dimensional arrays that are the fundamental data structures for representing and working with data.\n",
    "> Tensors in PyTorch are similar to NumPy arrays, but they have the added benefit of being compatible with GPU acceleration, making them a key component for deep learning and neural network computations.\n",
    "\n",
    "> One of the distinguishing features of PyTorch is its automatic differentiation capability, which is built on top of tensors.\n",
    "> PyTorch keeps track of operations performed on tensors and allows you to compute gradients automatically for purposes like training neural networks using backpropagation.\n",
    "\n",
    "Initialize a 3-by-`SPIRAL_N_POINTS` gradient-tracking PyTorch tensor filled with random numbers from a uniform distribution on the interval $[0,1)$.\n",
    "Then, plot the generated point set using [`plotly.express.scatter_3d()`](https://plotly.com/python-api-reference/generated/plotly.express.scatter_3d)."
   ]
  },
  {
   "cell_type": "code",
   "execution_count": 10,
   "metadata": {},
   "outputs": [],
   "source": [
    "import torch\n",
    "\n",
    "# torch.manual_seed(seed=42)\n",
    "predicted_coord_mat = torch.rand(size=(3, SPIRAL_N_POINTS), requires_grad=True)"
   ]
  },
  {
   "cell_type": "code",
   "execution_count": 11,
   "metadata": {},
   "outputs": [
    {
     "data": {
      "application/vnd.plotly.v1+json": {
       "config": {
        "plotlyServerURL": "https://plot.ly"
       },
       "data": [
        {
         "hovertemplate": "x=%{x}<br>y=%{y}<br>z=%{z}<extra></extra>",
         "legendgroup": "",
         "marker": {
          "color": "#636efa",
          "symbol": "circle"
         },
         "mode": "markers",
         "name": "",
         "scene": "scene",
         "showlegend": false,
         "type": "scatter3d",
         "x": [
          0.14169979095458984,
          0.43790125846862793,
          0.7348782420158386,
          0.4514457583427429,
          0.5644391775131226,
          0.5873795747756958,
          0.34535861015319824,
          0.3045084476470947,
          0.2971813678741455,
          0.18724209070205688,
          0.528544545173645,
          0.9223154187202454,
          0.24243593215942383,
          0.39153385162353516,
          0.2093086838722229,
          0.326554536819458,
          0.7419318556785583,
          0.7527495622634888,
          0.5678417682647705,
          0.8514379262924194,
          0.5086939930915833,
          0.09807854890823364,
          0.5869730710983276,
          0.9783738851547241,
          0.7125561237335205,
          0.15608197450637817,
          0.3584178686141968,
          0.5918368697166443,
          0.18122881650924683,
          0.6954161524772644,
          0.5664441585540771,
          0.518222987651825,
          0.7583506107330322,
          0.9053372144699097,
          0.8516478538513184,
          0.9774402379989624,
          0.6348976492881775,
          0.2616789937019348,
          0.9316703677177429,
          0.20206564664840698,
          0.4931960701942444,
          0.05292481184005737,
          0.02317565679550171,
          0.5235695242881775,
          0.13942700624465942,
          0.9195595383644104,
          0.2888006567955017,
          0.28126782178878784,
          0.25373131036758423,
          0.9021248817443848,
          0.7362870573997498,
          0.9072625637054443,
          0.864182710647583,
          0.8500625491142273,
          0.6116512417793274,
          0.06266456842422485,
          0.41229599714279175,
          0.3190727233886719,
          0.5665380358695984,
          0.7499199509620667,
          0.3740816116333008,
          0.9101508259773254,
          0.21785563230514526,
          0.20409131050109863,
          0.18718159198760986,
          0.6851383447647095,
          0.10905522108078003,
          0.6743307709693909,
          0.9432360529899597,
          0.01920163631439209,
          0.3627399802207947,
          0.9924453496932983,
          0.2676408290863037,
          0.55809086561203,
          0.3284348249435425,
          0.05109161138534546,
          0.02008157968521118,
          0.8032816648483276,
          0.4222518801689148,
          0.8622738718986511,
          0.16212600469589233,
          0.987511157989502,
          0.5306382775306702,
          0.27860158681869507,
          0.8382478356361389,
          0.24869245290756226,
          0.05636018514633179,
          0.8501698970794678,
          0.5022733211517334,
          0.6680766940116882,
          0.06171846389770508,
          0.16610634326934814,
          0.22322291135787964,
          0.8867718577384949,
          0.14712589979171753,
          0.32255280017852783,
          0.8292438983917236,
          0.53895503282547,
          0.7711474895477295,
          0.40901678800582886
         ],
         "y": [
          0.990648090839386,
          0.9635422229766846,
          0.09931349754333496,
          0.8060547113418579,
          0.6960968375205994,
          0.5902535915374756,
          0.6793502569198608,
          0.5988014340400696,
          0.2661738991737366,
          0.860598087310791,
          0.5566608905792236,
          0.14397025108337402,
          0.3813450336456299,
          0.5284149050712585,
          0.6594699025154114,
          0.10419058799743652,
          0.4348806142807007,
          0.2983909249305725,
          0.662881076335907,
          0.9030745029449463,
          0.19814211130142212,
          0.08382171392440796,
          0.3129672408103943,
          0.8082621693611145,
          0.4839780330657959,
          0.8646740913391113,
          0.8930988907814026,
          0.9433717131614685,
          0.28964173793792725,
          0.6013559103012085,
          0.5894227027893066,
          0.3337753415107727,
          0.357222318649292,
          0.8805315494537354,
          0.07009482383728027,
          0.4656006097793579,
          0.2625844478607178,
          0.39683419466018677,
          0.10891276597976685,
          0.9658599495887756,
          0.2098066210746765,
          0.779146134853363,
          0.7989456057548523,
          0.03715294599533081,
          0.6673596501350403,
          0.6513558030128479,
          0.5045474767684937,
          0.8040898442268372,
          0.965105414390564,
          0.40328216552734375,
          0.0056226253509521484,
          0.17699992656707764,
          0.5967646837234497,
          0.2287082076072693,
          0.8082443475723267,
          0.5225651860237122,
          0.06502866744995117,
          0.8766827583312988,
          0.25444597005844116,
          0.34745001792907715,
          0.07315921783447266,
          0.42881476879119873,
          0.7584763169288635,
          0.5335618853569031,
          0.8905227780342102,
          0.0005477070808410645,
          0.49077945947647095,
          0.45667028427124023,
          0.7068358063697815,
          0.9409584403038025,
          0.0766717791557312,
          0.9964183568954468,
          0.6102961301803589,
          0.18115687370300293,
          0.4406922459602356,
          0.3206106424331665,
          0.36488062143325806,
          0.09641927480697632,
          0.47849786281585693,
          0.417529821395874,
          0.9382462501525879,
          0.929840087890625,
          0.0026202797889709473,
          0.7636067867279053,
          0.008580029010772705,
          0.8484621644020081,
          0.2833457589149475,
          0.5414126515388489,
          0.9050357341766357,
          0.02149379253387451,
          0.9708545207977295,
          0.9674500226974487,
          0.21222823858261108,
          0.6450549364089966,
          0.9516825675964355,
          0.7130649089813232,
          0.042265236377716064,
          0.3927568197250366,
          0.47551727294921875,
          0.8014400601387024
         ],
         "z": [
          0.7332116365432739,
          0.7513906955718994,
          0.47461551427841187,
          0.44885993003845215,
          0.32495659589767456,
          0.006473898887634277,
          0.24266701936721802,
          0.1193547248840332,
          0.6543890237808228,
          0.26092207431793213,
          0.8828402757644653,
          0.9449208378791809,
          0.2640904188156128,
          0.6247466206550598,
          0.18102401494979858,
          0.02436167001724243,
          0.8791647553443909,
          0.16933155059814453,
          0.8853658437728882,
          0.9573568105697632,
          0.02041858434677124,
          0.3978765606880188,
          0.7469494938850403,
          0.5870670676231384,
          0.07694947719573975,
          0.14571523666381836,
          0.894171953201294,
          0.6340005993843079,
          0.9810336828231812,
          0.3976817727088928,
          0.9977162480354309,
          0.16584759950637817,
          0.7082492113113403,
          0.34427958726882935,
          0.42720264196395874,
          0.030590355396270752,
          0.4720836877822876,
          0.7760339379310608,
          0.29841548204421997,
          0.539655327796936,
          0.5735950469970703,
          0.3343777656555176,
          0.541440486907959,
          0.8387517333030701,
          0.8902696371078491,
          0.25584620237350464,
          0.24733632802963257,
          0.9133468866348267,
          0.9822078943252563,
          0.7607376575469971,
          0.05053633451461792,
          0.3685072064399719,
          0.8092402815818787,
          0.08514529466629028,
          0.17092621326446533,
          0.07402503490447998,
          0.504806399345398,
          0.8503183126449585,
          0.09923768043518066,
          0.3414909243583679,
          0.1841413378715515,
          0.44414764642715454,
          0.6979212164878845,
          0.18327826261520386,
          0.21336978673934937,
          0.2938652038574219,
          0.2498195767402649,
          0.12298732995986938,
          0.6678486466407776,
          0.3749036192893982,
          0.0961446762084961,
          0.9552323818206787,
          0.4576326012611389,
          0.5937504172325134,
          0.24234730005264282,
          0.536307156085968,
          0.2903848886489868,
          0.5333331823348999,
          0.482130229473114,
          0.7507824301719666,
          0.7292637228965759,
          0.4725272059440613,
          0.608608603477478,
          0.8858537077903748,
          0.6486001014709473,
          0.864407479763031,
          0.20820313692092896,
          0.4449053406715393,
          0.19169998168945312,
          0.981347382068634,
          0.9525203704833984,
          0.5057491660118103,
          0.051079392433166504,
          0.47191309928894043,
          0.3171914219856262,
          0.13970184326171875,
          0.2253914475440979,
          0.9446727633476257,
          0.757742166519165,
          0.03572845458984375
         ]
        }
       ],
       "layout": {
        "legend": {
         "tracegroupgap": 0
        },
        "margin": {
         "t": 60
        },
        "scene": {
         "domain": {
          "x": [
           0,
           1
          ],
          "y": [
           0,
           1
          ]
         },
         "xaxis": {
          "title": {
           "text": "x"
          }
         },
         "yaxis": {
          "title": {
           "text": "y"
          }
         },
         "zaxis": {
          "title": {
           "text": "z"
          }
         }
        },
        "template": {
         "data": {
          "bar": [
           {
            "error_x": {
             "color": "#2a3f5f"
            },
            "error_y": {
             "color": "#2a3f5f"
            },
            "marker": {
             "line": {
              "color": "#E5ECF6",
              "width": 0.5
             },
             "pattern": {
              "fillmode": "overlay",
              "size": 10,
              "solidity": 0.2
             }
            },
            "type": "bar"
           }
          ],
          "barpolar": [
           {
            "marker": {
             "line": {
              "color": "#E5ECF6",
              "width": 0.5
             },
             "pattern": {
              "fillmode": "overlay",
              "size": 10,
              "solidity": 0.2
             }
            },
            "type": "barpolar"
           }
          ],
          "carpet": [
           {
            "aaxis": {
             "endlinecolor": "#2a3f5f",
             "gridcolor": "white",
             "linecolor": "white",
             "minorgridcolor": "white",
             "startlinecolor": "#2a3f5f"
            },
            "baxis": {
             "endlinecolor": "#2a3f5f",
             "gridcolor": "white",
             "linecolor": "white",
             "minorgridcolor": "white",
             "startlinecolor": "#2a3f5f"
            },
            "type": "carpet"
           }
          ],
          "choropleth": [
           {
            "colorbar": {
             "outlinewidth": 0,
             "ticks": ""
            },
            "type": "choropleth"
           }
          ],
          "contour": [
           {
            "colorbar": {
             "outlinewidth": 0,
             "ticks": ""
            },
            "colorscale": [
             [
              0,
              "#0d0887"
             ],
             [
              0.1111111111111111,
              "#46039f"
             ],
             [
              0.2222222222222222,
              "#7201a8"
             ],
             [
              0.3333333333333333,
              "#9c179e"
             ],
             [
              0.4444444444444444,
              "#bd3786"
             ],
             [
              0.5555555555555556,
              "#d8576b"
             ],
             [
              0.6666666666666666,
              "#ed7953"
             ],
             [
              0.7777777777777778,
              "#fb9f3a"
             ],
             [
              0.8888888888888888,
              "#fdca26"
             ],
             [
              1,
              "#f0f921"
             ]
            ],
            "type": "contour"
           }
          ],
          "contourcarpet": [
           {
            "colorbar": {
             "outlinewidth": 0,
             "ticks": ""
            },
            "type": "contourcarpet"
           }
          ],
          "heatmap": [
           {
            "colorbar": {
             "outlinewidth": 0,
             "ticks": ""
            },
            "colorscale": [
             [
              0,
              "#0d0887"
             ],
             [
              0.1111111111111111,
              "#46039f"
             ],
             [
              0.2222222222222222,
              "#7201a8"
             ],
             [
              0.3333333333333333,
              "#9c179e"
             ],
             [
              0.4444444444444444,
              "#bd3786"
             ],
             [
              0.5555555555555556,
              "#d8576b"
             ],
             [
              0.6666666666666666,
              "#ed7953"
             ],
             [
              0.7777777777777778,
              "#fb9f3a"
             ],
             [
              0.8888888888888888,
              "#fdca26"
             ],
             [
              1,
              "#f0f921"
             ]
            ],
            "type": "heatmap"
           }
          ],
          "heatmapgl": [
           {
            "colorbar": {
             "outlinewidth": 0,
             "ticks": ""
            },
            "colorscale": [
             [
              0,
              "#0d0887"
             ],
             [
              0.1111111111111111,
              "#46039f"
             ],
             [
              0.2222222222222222,
              "#7201a8"
             ],
             [
              0.3333333333333333,
              "#9c179e"
             ],
             [
              0.4444444444444444,
              "#bd3786"
             ],
             [
              0.5555555555555556,
              "#d8576b"
             ],
             [
              0.6666666666666666,
              "#ed7953"
             ],
             [
              0.7777777777777778,
              "#fb9f3a"
             ],
             [
              0.8888888888888888,
              "#fdca26"
             ],
             [
              1,
              "#f0f921"
             ]
            ],
            "type": "heatmapgl"
           }
          ],
          "histogram": [
           {
            "marker": {
             "pattern": {
              "fillmode": "overlay",
              "size": 10,
              "solidity": 0.2
             }
            },
            "type": "histogram"
           }
          ],
          "histogram2d": [
           {
            "colorbar": {
             "outlinewidth": 0,
             "ticks": ""
            },
            "colorscale": [
             [
              0,
              "#0d0887"
             ],
             [
              0.1111111111111111,
              "#46039f"
             ],
             [
              0.2222222222222222,
              "#7201a8"
             ],
             [
              0.3333333333333333,
              "#9c179e"
             ],
             [
              0.4444444444444444,
              "#bd3786"
             ],
             [
              0.5555555555555556,
              "#d8576b"
             ],
             [
              0.6666666666666666,
              "#ed7953"
             ],
             [
              0.7777777777777778,
              "#fb9f3a"
             ],
             [
              0.8888888888888888,
              "#fdca26"
             ],
             [
              1,
              "#f0f921"
             ]
            ],
            "type": "histogram2d"
           }
          ],
          "histogram2dcontour": [
           {
            "colorbar": {
             "outlinewidth": 0,
             "ticks": ""
            },
            "colorscale": [
             [
              0,
              "#0d0887"
             ],
             [
              0.1111111111111111,
              "#46039f"
             ],
             [
              0.2222222222222222,
              "#7201a8"
             ],
             [
              0.3333333333333333,
              "#9c179e"
             ],
             [
              0.4444444444444444,
              "#bd3786"
             ],
             [
              0.5555555555555556,
              "#d8576b"
             ],
             [
              0.6666666666666666,
              "#ed7953"
             ],
             [
              0.7777777777777778,
              "#fb9f3a"
             ],
             [
              0.8888888888888888,
              "#fdca26"
             ],
             [
              1,
              "#f0f921"
             ]
            ],
            "type": "histogram2dcontour"
           }
          ],
          "mesh3d": [
           {
            "colorbar": {
             "outlinewidth": 0,
             "ticks": ""
            },
            "type": "mesh3d"
           }
          ],
          "parcoords": [
           {
            "line": {
             "colorbar": {
              "outlinewidth": 0,
              "ticks": ""
             }
            },
            "type": "parcoords"
           }
          ],
          "pie": [
           {
            "automargin": true,
            "type": "pie"
           }
          ],
          "scatter": [
           {
            "fillpattern": {
             "fillmode": "overlay",
             "size": 10,
             "solidity": 0.2
            },
            "type": "scatter"
           }
          ],
          "scatter3d": [
           {
            "line": {
             "colorbar": {
              "outlinewidth": 0,
              "ticks": ""
             }
            },
            "marker": {
             "colorbar": {
              "outlinewidth": 0,
              "ticks": ""
             }
            },
            "type": "scatter3d"
           }
          ],
          "scattercarpet": [
           {
            "marker": {
             "colorbar": {
              "outlinewidth": 0,
              "ticks": ""
             }
            },
            "type": "scattercarpet"
           }
          ],
          "scattergeo": [
           {
            "marker": {
             "colorbar": {
              "outlinewidth": 0,
              "ticks": ""
             }
            },
            "type": "scattergeo"
           }
          ],
          "scattergl": [
           {
            "marker": {
             "colorbar": {
              "outlinewidth": 0,
              "ticks": ""
             }
            },
            "type": "scattergl"
           }
          ],
          "scattermapbox": [
           {
            "marker": {
             "colorbar": {
              "outlinewidth": 0,
              "ticks": ""
             }
            },
            "type": "scattermapbox"
           }
          ],
          "scatterpolar": [
           {
            "marker": {
             "colorbar": {
              "outlinewidth": 0,
              "ticks": ""
             }
            },
            "type": "scatterpolar"
           }
          ],
          "scatterpolargl": [
           {
            "marker": {
             "colorbar": {
              "outlinewidth": 0,
              "ticks": ""
             }
            },
            "type": "scatterpolargl"
           }
          ],
          "scatterternary": [
           {
            "marker": {
             "colorbar": {
              "outlinewidth": 0,
              "ticks": ""
             }
            },
            "type": "scatterternary"
           }
          ],
          "surface": [
           {
            "colorbar": {
             "outlinewidth": 0,
             "ticks": ""
            },
            "colorscale": [
             [
              0,
              "#0d0887"
             ],
             [
              0.1111111111111111,
              "#46039f"
             ],
             [
              0.2222222222222222,
              "#7201a8"
             ],
             [
              0.3333333333333333,
              "#9c179e"
             ],
             [
              0.4444444444444444,
              "#bd3786"
             ],
             [
              0.5555555555555556,
              "#d8576b"
             ],
             [
              0.6666666666666666,
              "#ed7953"
             ],
             [
              0.7777777777777778,
              "#fb9f3a"
             ],
             [
              0.8888888888888888,
              "#fdca26"
             ],
             [
              1,
              "#f0f921"
             ]
            ],
            "type": "surface"
           }
          ],
          "table": [
           {
            "cells": {
             "fill": {
              "color": "#EBF0F8"
             },
             "line": {
              "color": "white"
             }
            },
            "header": {
             "fill": {
              "color": "#C8D4E3"
             },
             "line": {
              "color": "white"
             }
            },
            "type": "table"
           }
          ]
         },
         "layout": {
          "annotationdefaults": {
           "arrowcolor": "#2a3f5f",
           "arrowhead": 0,
           "arrowwidth": 1
          },
          "autotypenumbers": "strict",
          "coloraxis": {
           "colorbar": {
            "outlinewidth": 0,
            "ticks": ""
           }
          },
          "colorscale": {
           "diverging": [
            [
             0,
             "#8e0152"
            ],
            [
             0.1,
             "#c51b7d"
            ],
            [
             0.2,
             "#de77ae"
            ],
            [
             0.3,
             "#f1b6da"
            ],
            [
             0.4,
             "#fde0ef"
            ],
            [
             0.5,
             "#f7f7f7"
            ],
            [
             0.6,
             "#e6f5d0"
            ],
            [
             0.7,
             "#b8e186"
            ],
            [
             0.8,
             "#7fbc41"
            ],
            [
             0.9,
             "#4d9221"
            ],
            [
             1,
             "#276419"
            ]
           ],
           "sequential": [
            [
             0,
             "#0d0887"
            ],
            [
             0.1111111111111111,
             "#46039f"
            ],
            [
             0.2222222222222222,
             "#7201a8"
            ],
            [
             0.3333333333333333,
             "#9c179e"
            ],
            [
             0.4444444444444444,
             "#bd3786"
            ],
            [
             0.5555555555555556,
             "#d8576b"
            ],
            [
             0.6666666666666666,
             "#ed7953"
            ],
            [
             0.7777777777777778,
             "#fb9f3a"
            ],
            [
             0.8888888888888888,
             "#fdca26"
            ],
            [
             1,
             "#f0f921"
            ]
           ],
           "sequentialminus": [
            [
             0,
             "#0d0887"
            ],
            [
             0.1111111111111111,
             "#46039f"
            ],
            [
             0.2222222222222222,
             "#7201a8"
            ],
            [
             0.3333333333333333,
             "#9c179e"
            ],
            [
             0.4444444444444444,
             "#bd3786"
            ],
            [
             0.5555555555555556,
             "#d8576b"
            ],
            [
             0.6666666666666666,
             "#ed7953"
            ],
            [
             0.7777777777777778,
             "#fb9f3a"
            ],
            [
             0.8888888888888888,
             "#fdca26"
            ],
            [
             1,
             "#f0f921"
            ]
           ]
          },
          "colorway": [
           "#636efa",
           "#EF553B",
           "#00cc96",
           "#ab63fa",
           "#FFA15A",
           "#19d3f3",
           "#FF6692",
           "#B6E880",
           "#FF97FF",
           "#FECB52"
          ],
          "font": {
           "color": "#2a3f5f"
          },
          "geo": {
           "bgcolor": "white",
           "lakecolor": "white",
           "landcolor": "#E5ECF6",
           "showlakes": true,
           "showland": true,
           "subunitcolor": "white"
          },
          "hoverlabel": {
           "align": "left"
          },
          "hovermode": "closest",
          "mapbox": {
           "style": "light"
          },
          "paper_bgcolor": "white",
          "plot_bgcolor": "#E5ECF6",
          "polar": {
           "angularaxis": {
            "gridcolor": "white",
            "linecolor": "white",
            "ticks": ""
           },
           "bgcolor": "#E5ECF6",
           "radialaxis": {
            "gridcolor": "white",
            "linecolor": "white",
            "ticks": ""
           }
          },
          "scene": {
           "xaxis": {
            "backgroundcolor": "#E5ECF6",
            "gridcolor": "white",
            "gridwidth": 2,
            "linecolor": "white",
            "showbackground": true,
            "ticks": "",
            "zerolinecolor": "white"
           },
           "yaxis": {
            "backgroundcolor": "#E5ECF6",
            "gridcolor": "white",
            "gridwidth": 2,
            "linecolor": "white",
            "showbackground": true,
            "ticks": "",
            "zerolinecolor": "white"
           },
           "zaxis": {
            "backgroundcolor": "#E5ECF6",
            "gridcolor": "white",
            "gridwidth": 2,
            "linecolor": "white",
            "showbackground": true,
            "ticks": "",
            "zerolinecolor": "white"
           }
          },
          "shapedefaults": {
           "line": {
            "color": "#2a3f5f"
           }
          },
          "ternary": {
           "aaxis": {
            "gridcolor": "white",
            "linecolor": "white",
            "ticks": ""
           },
           "baxis": {
            "gridcolor": "white",
            "linecolor": "white",
            "ticks": ""
           },
           "bgcolor": "#E5ECF6",
           "caxis": {
            "gridcolor": "white",
            "linecolor": "white",
            "ticks": ""
           }
          },
          "title": {
           "x": 0.05
          },
          "xaxis": {
           "automargin": true,
           "gridcolor": "white",
           "linecolor": "white",
           "ticks": "",
           "title": {
            "standoff": 15
           },
           "zerolinecolor": "white",
           "zerolinewidth": 2
          },
          "yaxis": {
           "automargin": true,
           "gridcolor": "white",
           "linecolor": "white",
           "ticks": "",
           "title": {
            "standoff": 15
           },
           "zerolinecolor": "white",
           "zerolinewidth": 2
          }
         }
        },
        "width": 800
       }
      }
     },
     "metadata": {},
     "output_type": "display_data"
    }
   ],
   "source": [
    "predicted_coord_mat_np = predicted_coord_mat.detach().numpy()\n",
    "\n",
    "fig = px.scatter_3d(\n",
    "    x=predicted_coord_mat_np[0, :],\n",
    "    y=predicted_coord_mat_np[1, :],\n",
    "    z=predicted_coord_mat_np[2, :],\n",
    ")\n",
    "fig.update_layout(width=800)\n",
    "fig.show()"
   ]
  },
  {
   "cell_type": "markdown",
   "metadata": {},
   "source": [
    "##### ❓ **Q2.4** &mdash; Optimization"
   ]
  },
  {
   "cell_type": "markdown",
   "metadata": {},
   "source": [
    "First, as a preprocessing step, we convert the sparsified EDM into the coordinate format.\n",
    "\n",
    "> The **COO**rdinate fornat is also known as the 'ijv' or 'triplet' format.\n",
    "> It is used for the efficient representation of sparse matrices via three arrays: row indexes, column indexes, data (`data[i]` is the value at `row[i]`, `col[i]`).\n",
    "\n",
    "We later need this representation to extract the relevant values to compute the loss during optimization.\n",
    "Hence, we preemptively already convert the values to a PyTorch tensor."
   ]
  },
  {
   "cell_type": "code",
   "execution_count": 12,
   "metadata": {},
   "outputs": [],
   "source": [
    "from scipy.sparse import coo_matrix\n",
    "\n",
    "partial_ed_mat_coo = coo_matrix(partial_ed_mat)\n",
    "\n",
    "partial_ed_mat_row_ids = partial_ed_mat_coo.row\n",
    "partial_ed_mat_col_ids = partial_ed_mat_coo.col\n",
    "partial_ed_mat_values = torch.from_numpy(partial_ed_mat_coo.data).float()"
   ]
  },
  {
   "cell_type": "markdown",
   "metadata": {},
   "source": [
    "We also need a PyTorch'd function to convert a coordinate matrix via the Gram matrix into an EDM:"
   ]
  },
  {
   "cell_type": "code",
   "execution_count": 13,
   "metadata": {},
   "outputs": [],
   "source": [
    "def point2edm(coord_mat: torch.Tensor) -> torch.Tensor:\n",
    "    gram_mat = coord_mat.T @ coord_mat\n",
    "    diag_vec = torch.diag(gram_mat).reshape(shape=(-1, 1))\n",
    "    ones_vec = torch.ones((coord_mat.shape[1], 1))\n",
    "    ed_mat = diag_vec @ ones_vec.T + ones_vec * diag_vec.T - 2 * gram_mat\n",
    "    return ed_mat"
   ]
  },
  {
   "cell_type": "markdown",
   "metadata": {},
   "source": [
    "Optimize the above-initialized coordinate matrix (`predicted_coord_mat`).\n",
    "\n",
    "Try [`torch.optim.SGD`](https://pytorch.org/docs/stable/generated/torch.optim.SGD.html) and [`torch.optim.Adam`](https://pytorch.org/docs/stable/generated/torch.optim.Adam.html) as optimizer and [`torch.nn.functional.mse_loss()`](https://pytorch.org/docs/stable/generated/torch.nn.functional.mse_loss.html) as loss function.\n",
    "\n",
    "> Notice the difference in convergence speed between the different optimizers.\n",
    "\n",
    "In each iteration of the optimization process, do the following:\n",
    "\n",
    "1. Reset the gradients of all optimized tensors.\n",
    "2. Compute the EDM from the current (to-be-optimized) coordinate matrix.\n",
    "3. Compute the loss between the COO values of the sparse ground-truth EDM (`partial_ed_mat_values`) and the corresponding values from the current coordinate matrix.\n",
    "4. Initiate the backprop and perform an optimization step."
   ]
  },
  {
   "cell_type": "code",
   "execution_count": 14,
   "metadata": {},
   "outputs": [
    {
     "name": "stdout",
     "output_type": "stream",
     "text": [
      "Iteration [    1/  100] | Loss=0.323955\n",
      "Iteration [    2/  100] | Loss=0.274195\n",
      "Iteration [    3/  100] | Loss=0.258658\n",
      "Iteration [    4/  100] | Loss=0.240625\n",
      "Iteration [    5/  100] | Loss=0.222674\n",
      "Iteration [    6/  100] | Loss=0.203654\n",
      "Iteration [    7/  100] | Loss=0.185609\n",
      "Iteration [    8/  100] | Loss=0.168646\n",
      "Iteration [    9/  100] | Loss=0.150845\n",
      "Iteration [   10/  100] | Loss=0.133783\n",
      "Iteration [   11/  100] | Loss=0.118948\n",
      "Iteration [   12/  100] | Loss=0.105843\n",
      "Iteration [   13/  100] | Loss=0.093447\n",
      "Iteration [   14/  100] | Loss=0.081555\n",
      "Iteration [   15/  100] | Loss=0.069392\n",
      "Iteration [   16/  100] | Loss=0.057664\n",
      "Iteration [   17/  100] | Loss=0.048890\n",
      "Iteration [   18/  100] | Loss=0.043746\n",
      "Iteration [   19/  100] | Loss=0.039819\n",
      "Iteration [   20/  100] | Loss=0.035407\n",
      "Iteration [   21/  100] | Loss=0.030708\n",
      "Iteration [   22/  100] | Loss=0.026419\n",
      "Iteration [   23/  100] | Loss=0.023098\n",
      "Iteration [   24/  100] | Loss=0.020539\n",
      "Iteration [   25/  100] | Loss=0.018345\n",
      "Iteration [   26/  100] | Loss=0.016621\n",
      "Iteration [   27/  100] | Loss=0.015383\n",
      "Iteration [   28/  100] | Loss=0.014099\n",
      "Iteration [   29/  100] | Loss=0.012467\n",
      "Iteration [   30/  100] | Loss=0.010911\n",
      "Iteration [   31/  100] | Loss=0.009826\n",
      "Iteration [   32/  100] | Loss=0.009198\n",
      "Iteration [   33/  100] | Loss=0.008742\n",
      "Iteration [   34/  100] | Loss=0.008190\n",
      "Iteration [   35/  100] | Loss=0.007519\n",
      "Iteration [   36/  100] | Loss=0.006897\n",
      "Iteration [   37/  100] | Loss=0.006428\n",
      "Iteration [   38/  100] | Loss=0.006011\n",
      "Iteration [   39/  100] | Loss=0.005482\n",
      "Iteration [   40/  100] | Loss=0.004806\n",
      "Iteration [   41/  100] | Loss=0.004107\n",
      "Iteration [   42/  100] | Loss=0.003504\n",
      "Iteration [   43/  100] | Loss=0.003016\n",
      "Iteration [   44/  100] | Loss=0.002658\n",
      "Iteration [   45/  100] | Loss=0.002436\n",
      "Iteration [   46/  100] | Loss=0.002302\n",
      "Iteration [   47/  100] | Loss=0.002190\n",
      "Iteration [   48/  100] | Loss=0.002049\n",
      "Iteration [   49/  100] | Loss=0.001840\n",
      "Iteration [   50/  100] | Loss=0.001565\n",
      "Iteration [   51/  100] | Loss=0.001298\n",
      "Iteration [   52/  100] | Loss=0.001123\n",
      "Iteration [   53/  100] | Loss=0.001049\n",
      "Iteration [   54/  100] | Loss=0.001005\n",
      "Iteration [   55/  100] | Loss=0.000942\n",
      "Iteration [   56/  100] | Loss=0.000881\n",
      "Iteration [   57/  100] | Loss=0.000847\n",
      "Iteration [   58/  100] | Loss=0.000819\n",
      "Iteration [   59/  100] | Loss=0.000759\n",
      "Iteration [   60/  100] | Loss=0.000660\n",
      "Iteration [   61/  100] | Loss=0.000551\n",
      "Iteration [   62/  100] | Loss=0.000469\n",
      "Iteration [   63/  100] | Loss=0.000420\n",
      "Iteration [   64/  100] | Loss=0.000380\n",
      "Iteration [   65/  100] | Loss=0.000326\n",
      "Iteration [   66/  100] | Loss=0.000266\n",
      "Iteration [   67/  100] | Loss=0.000226\n",
      "Iteration [   68/  100] | Loss=0.000216\n",
      "Iteration [   69/  100] | Loss=0.000223\n",
      "Iteration [   70/  100] | Loss=0.000225\n",
      "Iteration [   71/  100] | Loss=0.000209\n",
      "Iteration [   72/  100] | Loss=0.000185\n",
      "Iteration [   73/  100] | Loss=0.000167\n",
      "Iteration [   74/  100] | Loss=0.000154\n",
      "Iteration [   75/  100] | Loss=0.000136\n",
      "Iteration [   76/  100] | Loss=0.000114\n",
      "Iteration [   77/  100] | Loss=0.000096\n",
      "Iteration [   78/  100] | Loss=0.000090\n",
      "Iteration [   79/  100] | Loss=0.000089\n",
      "Iteration [   80/  100] | Loss=0.000084\n",
      "Iteration [   81/  100] | Loss=0.000071\n",
      "Iteration [   82/  100] | Loss=0.000059\n",
      "Iteration [   83/  100] | Loss=0.000052\n",
      "Iteration [   84/  100] | Loss=0.000047\n",
      "Iteration [   85/  100] | Loss=0.000041\n",
      "Iteration [   86/  100] | Loss=0.000035\n",
      "Iteration [   87/  100] | Loss=0.000034\n",
      "Iteration [   88/  100] | Loss=0.000034\n",
      "Iteration [   89/  100] | Loss=0.000033\n",
      "Iteration [   90/  100] | Loss=0.000031\n",
      "Iteration [   91/  100] | Loss=0.000027\n",
      "Iteration [   92/  100] | Loss=0.000024\n",
      "Iteration [   93/  100] | Loss=0.000021\n",
      "Iteration [   94/  100] | Loss=0.000019\n",
      "Iteration [   95/  100] | Loss=0.000017\n",
      "Iteration [   96/  100] | Loss=0.000014\n",
      "Iteration [   97/  100] | Loss=0.000013\n",
      "Iteration [   98/  100] | Loss=0.000012\n",
      "Iteration [   99/  100] | Loss=0.000011\n",
      "Iteration [  100/  100] | Loss=0.000010\n"
     ]
    }
   ],
   "source": [
    "optimizer = torch.optim.Adam(params=[predicted_coord_mat], lr=1e-1)\n",
    "\n",
    "from torch.nn.functional import mse_loss\n",
    "\n",
    "n_iterations = 100\n",
    "\n",
    "for i in range(n_iterations):\n",
    "    optimizer.zero_grad()\n",
    "    predicted_ed_mat = point2edm(coord_mat=predicted_coord_mat)\n",
    "    partial_predicted_ed_mat_values = predicted_ed_mat[\n",
    "        partial_ed_mat_row_ids, partial_ed_mat_col_ids\n",
    "    ]\n",
    "    loss = mse_loss(input=partial_predicted_ed_mat_values, target=partial_ed_mat_values)\n",
    "    loss.backward()\n",
    "    optimizer.step()\n",
    "\n",
    "    print(f\"Iteration [{(i + 1):5}/{n_iterations:5}] | Loss={loss:8f}\")"
   ]
  },
  {
   "cell_type": "markdown",
   "metadata": {},
   "source": [
    "Finally, plot the optimized point set using [`plotly.express.scatter_3d()`](https://plotly.com/python-api-reference/generated/plotly.express.scatter_3d)."
   ]
  },
  {
   "cell_type": "code",
   "execution_count": 15,
   "metadata": {},
   "outputs": [
    {
     "data": {
      "application/vnd.plotly.v1+json": {
       "config": {
        "plotlyServerURL": "https://plot.ly"
       },
       "data": [
        {
         "hovertemplate": "x=%{x}<br>y=%{y}<br>z=%{z}<extra></extra>",
         "legendgroup": "",
         "marker": {
          "color": "#636efa",
          "symbol": "circle"
         },
         "mode": "markers",
         "name": "",
         "scene": "scene",
         "showlegend": false,
         "type": "scatter3d",
         "x": [
          1.0742095708847046,
          1.1401090621948242,
          1.1830166578292847,
          1.1976114511489868,
          1.1861276626586914,
          1.1503267288208008,
          1.0854291915893555,
          0.9981713891029358,
          0.8982301950454712,
          0.7878597974777222,
          0.6701637506484985,
          0.5597807168960571,
          0.45409950613975525,
          0.37551939487457275,
          0.3095342218875885,
          0.26514142751693726,
          0.2597443163394928,
          0.27561527490615845,
          0.3134465515613556,
          0.37959516048431396,
          0.46651050448417664,
          0.5623709559440613,
          0.6676790118217468,
          0.7755820155143738,
          0.8722359538078308,
          0.9581165313720703,
          1.0221548080444336,
          1.0653804540634155,
          1.0797494649887085,
          1.0709410905838013,
          1.0301487445831299,
          0.9689323306083679,
          0.8815102577209473,
          0.7791137099266052,
          0.6685556769371033,
          0.5542137026786804,
          0.44402119517326355,
          0.3415779769420624,
          0.2549399733543396,
          0.18881280720233917,
          0.15235114097595215,
          0.1403989940881729,
          0.1564425826072693,
          0.1978602260351181,
          0.2611232101917267,
          0.34732434153556824,
          0.44269847869873047,
          0.5506802797317505,
          0.6518529057502747,
          0.7539125084877014,
          0.8371009230613708,
          0.905377209186554,
          0.945706307888031,
          0.9640851616859436,
          0.9500410556793213,
          0.9128612279891968,
          0.8460641503334045,
          0.7669713497161865,
          0.6626114249229431,
          0.5544316172599792,
          0.4352026581764221,
          0.3237742483615875,
          0.22520038485527039,
          0.13609576225280762,
          0.07364657521247864,
          0.03394027799367905,
          0.02197391539812088,
          0.03830740228295326,
          0.07931576669216156,
          0.14505521953105927,
          0.22965265810489655,
          0.3282175064086914,
          0.433078408241272,
          0.5376225113868713,
          0.6337273120880127,
          0.7214868664741516,
          0.7848362922668457,
          0.8294066190719604,
          0.842223048210144,
          0.8323736786842346,
          0.7907692790031433,
          0.730384111404419,
          0.6438167691230774,
          0.5414290428161621,
          0.43370744585990906,
          0.3179107904434204,
          0.20686976611614227,
          0.102168008685112,
          0.0184380691498518,
          -0.046179261058568954,
          -0.08439262956380844,
          -0.0954974964261055,
          -0.08045081794261932,
          -0.03651879355311394,
          0.026891013607382774,
          0.10946939885616302,
          0.20947657525539398,
          0.3148529529571533,
          0.42069903016090393,
          0.5164366960525513
         ],
         "y": [
          0.9486832618713379,
          0.8406298756599426,
          0.7246888279914856,
          0.6023613214492798,
          0.4790019392967224,
          0.373531311750412,
          0.2758280336856842,
          0.20748792588710785,
          0.16497068107128143,
          0.15231828391551971,
          0.16690123081207275,
          0.2127520889043808,
          0.28264644742012024,
          0.37477192282676697,
          0.4822255074977875,
          0.6004191040992737,
          0.7173784375190735,
          0.8257237672805786,
          0.9213295578956604,
          0.9981420040130615,
          1.0481818914413452,
          1.0724095106124878,
          1.0634160041809082,
          1.0257658958435059,
          0.9619911313056946,
          0.873227596282959,
          0.7674147486686707,
          0.6477117538452148,
          0.5267067551612854,
          0.4100129008293152,
          0.29696282744407654,
          0.20709846913814545,
          0.13606905937194824,
          0.09084554016590118,
          0.07892751693725586,
          0.09552289545536041,
          0.14002926647663116,
          0.2118326723575592,
          0.30507972836494446,
          0.4114498198032379,
          0.5243184566497803,
          0.6423949599266052,
          0.7516714334487915,
          0.8494910597801208,
          0.9236449599266052,
          0.975189745426178,
          0.9981071949005127,
          0.9884605407714844,
          0.9538910984992981,
          0.8877822756767273,
          0.8006015419960022,
          0.6970218420028687,
          0.5791785717010498,
          0.4538695216178894,
          0.33009904623031616,
          0.22270460426807404,
          0.13201093673706055,
          0.062005411833524704,
          0.020121993497014046,
          0.007196965627372265,
          0.02315870113670826,
          0.06815773248672485,
          0.13807077705860138,
          0.23524920642375946,
          0.3380833864212036,
          0.4511542320251465,
          0.5713621377944946,
          0.6821585297584534,
          0.7762109637260437,
          0.8532626628875732,
          0.9040124416351318,
          0.9240588545799255,
          0.9173920750617981,
          0.8790702819824219,
          0.8169305920600891,
          0.7294216752052307,
          0.6192683577537537,
          0.505218505859375,
          0.379910409450531,
          0.26028767228126526,
          0.151267409324646,
          0.05845622718334198,
          -0.009828578680753708,
          -0.05428216978907585,
          -0.06544897705316544,
          -0.050238706171512604,
          -0.005761358421295881,
          0.06503844261169434,
          0.15735648572444916,
          0.26897159218788147,
          0.381102591753006,
          0.4953271746635437,
          0.6017124056816101,
          0.7049444913864136,
          0.7808652520179749,
          0.8300687074661255,
          0.8559997081756592,
          0.8415865302085876,
          0.806877613067627,
          0.7422753572463989
         ],
         "z": [
          0.3421448767185211,
          0.35281237959861755,
          0.3530770540237427,
          0.3242798149585724,
          0.2873057723045349,
          0.23979441821575165,
          0.18692341446876526,
          0.12118617445230484,
          0.06307002902030945,
          0.008299282751977444,
          -0.04067106917500496,
          -0.07456476241350174,
          -0.09503770619630814,
          -0.1018211767077446,
          -0.08753273636102676,
          -0.0550573505461216,
          -0.011563130654394627,
          0.047471147030591965,
          0.1172153651714325,
          0.1972668617963791,
          0.2721414268016815,
          0.34900963306427,
          0.420462429523468,
          0.4746534526348114,
          0.5201224684715271,
          0.5489654541015625,
          0.5616709589958191,
          0.5559343695640564,
          0.5334755778312683,
          0.4967654049396515,
          0.4461834728717804,
          0.39036059379577637,
          0.3349742591381073,
          0.27179715037345886,
          0.2141946405172348,
          0.1673249751329422,
          0.1326015144586563,
          0.1095455139875412,
          0.10480071604251862,
          0.12024679780006409,
          0.15056845545768738,
          0.19884581863880157,
          0.2549018859863281,
          0.3233884274959564,
          0.4052232801914215,
          0.47952598333358765,
          0.5555694699287415,
          0.6281635165214539,
          0.6836451888084412,
          0.7304102182388306,
          0.7574660778045654,
          0.7660330533981323,
          0.7641245722770691,
          0.7413230538368225,
          0.70587158203125,
          0.6577032208442688,
          0.6018329858779907,
          0.5432544946670532,
          0.47934582829475403,
          0.42068353295326233,
          0.37373095750808716,
          0.33878254890441895,
          0.31499043107032776,
          0.3116437494754791,
          0.326833039522171,
          0.3597767651081085,
          0.4051123857498169,
          0.46424683928489685,
          0.5291998982429504,
          0.6104788184165955,
          0.6845419406890869,
          0.7628607749938965,
          0.8335052132606506,
          0.8929933905601501,
          0.9368416666984558,
          0.9647075533866882,
          0.9785053730010986,
          0.9706050753593445,
          0.9513847827911377,
          0.9146165251731873,
          0.865496814250946,
          0.8091264367103577,
          0.7500998973846436,
          0.6863685250282288,
          0.6334137916564941,
          0.5832988619804382,
          0.5445030331611633,
          0.527662992477417,
          0.523112416267395,
          0.5371525287628174,
          0.5697310566902161,
          0.616801381111145,
          0.6728357672691345,
          0.7416571378707886,
          0.814473032951355,
          0.8942624926567078,
          0.969170331954956,
          1.0418622493743896,
          1.0998355150222778,
          1.1430529356002808
         ]
        }
       ],
       "layout": {
        "legend": {
         "tracegroupgap": 0
        },
        "margin": {
         "t": 60
        },
        "scene": {
         "domain": {
          "x": [
           0,
           1
          ],
          "y": [
           0,
           1
          ]
         },
         "xaxis": {
          "title": {
           "text": "x"
          }
         },
         "yaxis": {
          "title": {
           "text": "y"
          }
         },
         "zaxis": {
          "title": {
           "text": "z"
          }
         }
        },
        "template": {
         "data": {
          "bar": [
           {
            "error_x": {
             "color": "#2a3f5f"
            },
            "error_y": {
             "color": "#2a3f5f"
            },
            "marker": {
             "line": {
              "color": "#E5ECF6",
              "width": 0.5
             },
             "pattern": {
              "fillmode": "overlay",
              "size": 10,
              "solidity": 0.2
             }
            },
            "type": "bar"
           }
          ],
          "barpolar": [
           {
            "marker": {
             "line": {
              "color": "#E5ECF6",
              "width": 0.5
             },
             "pattern": {
              "fillmode": "overlay",
              "size": 10,
              "solidity": 0.2
             }
            },
            "type": "barpolar"
           }
          ],
          "carpet": [
           {
            "aaxis": {
             "endlinecolor": "#2a3f5f",
             "gridcolor": "white",
             "linecolor": "white",
             "minorgridcolor": "white",
             "startlinecolor": "#2a3f5f"
            },
            "baxis": {
             "endlinecolor": "#2a3f5f",
             "gridcolor": "white",
             "linecolor": "white",
             "minorgridcolor": "white",
             "startlinecolor": "#2a3f5f"
            },
            "type": "carpet"
           }
          ],
          "choropleth": [
           {
            "colorbar": {
             "outlinewidth": 0,
             "ticks": ""
            },
            "type": "choropleth"
           }
          ],
          "contour": [
           {
            "colorbar": {
             "outlinewidth": 0,
             "ticks": ""
            },
            "colorscale": [
             [
              0,
              "#0d0887"
             ],
             [
              0.1111111111111111,
              "#46039f"
             ],
             [
              0.2222222222222222,
              "#7201a8"
             ],
             [
              0.3333333333333333,
              "#9c179e"
             ],
             [
              0.4444444444444444,
              "#bd3786"
             ],
             [
              0.5555555555555556,
              "#d8576b"
             ],
             [
              0.6666666666666666,
              "#ed7953"
             ],
             [
              0.7777777777777778,
              "#fb9f3a"
             ],
             [
              0.8888888888888888,
              "#fdca26"
             ],
             [
              1,
              "#f0f921"
             ]
            ],
            "type": "contour"
           }
          ],
          "contourcarpet": [
           {
            "colorbar": {
             "outlinewidth": 0,
             "ticks": ""
            },
            "type": "contourcarpet"
           }
          ],
          "heatmap": [
           {
            "colorbar": {
             "outlinewidth": 0,
             "ticks": ""
            },
            "colorscale": [
             [
              0,
              "#0d0887"
             ],
             [
              0.1111111111111111,
              "#46039f"
             ],
             [
              0.2222222222222222,
              "#7201a8"
             ],
             [
              0.3333333333333333,
              "#9c179e"
             ],
             [
              0.4444444444444444,
              "#bd3786"
             ],
             [
              0.5555555555555556,
              "#d8576b"
             ],
             [
              0.6666666666666666,
              "#ed7953"
             ],
             [
              0.7777777777777778,
              "#fb9f3a"
             ],
             [
              0.8888888888888888,
              "#fdca26"
             ],
             [
              1,
              "#f0f921"
             ]
            ],
            "type": "heatmap"
           }
          ],
          "heatmapgl": [
           {
            "colorbar": {
             "outlinewidth": 0,
             "ticks": ""
            },
            "colorscale": [
             [
              0,
              "#0d0887"
             ],
             [
              0.1111111111111111,
              "#46039f"
             ],
             [
              0.2222222222222222,
              "#7201a8"
             ],
             [
              0.3333333333333333,
              "#9c179e"
             ],
             [
              0.4444444444444444,
              "#bd3786"
             ],
             [
              0.5555555555555556,
              "#d8576b"
             ],
             [
              0.6666666666666666,
              "#ed7953"
             ],
             [
              0.7777777777777778,
              "#fb9f3a"
             ],
             [
              0.8888888888888888,
              "#fdca26"
             ],
             [
              1,
              "#f0f921"
             ]
            ],
            "type": "heatmapgl"
           }
          ],
          "histogram": [
           {
            "marker": {
             "pattern": {
              "fillmode": "overlay",
              "size": 10,
              "solidity": 0.2
             }
            },
            "type": "histogram"
           }
          ],
          "histogram2d": [
           {
            "colorbar": {
             "outlinewidth": 0,
             "ticks": ""
            },
            "colorscale": [
             [
              0,
              "#0d0887"
             ],
             [
              0.1111111111111111,
              "#46039f"
             ],
             [
              0.2222222222222222,
              "#7201a8"
             ],
             [
              0.3333333333333333,
              "#9c179e"
             ],
             [
              0.4444444444444444,
              "#bd3786"
             ],
             [
              0.5555555555555556,
              "#d8576b"
             ],
             [
              0.6666666666666666,
              "#ed7953"
             ],
             [
              0.7777777777777778,
              "#fb9f3a"
             ],
             [
              0.8888888888888888,
              "#fdca26"
             ],
             [
              1,
              "#f0f921"
             ]
            ],
            "type": "histogram2d"
           }
          ],
          "histogram2dcontour": [
           {
            "colorbar": {
             "outlinewidth": 0,
             "ticks": ""
            },
            "colorscale": [
             [
              0,
              "#0d0887"
             ],
             [
              0.1111111111111111,
              "#46039f"
             ],
             [
              0.2222222222222222,
              "#7201a8"
             ],
             [
              0.3333333333333333,
              "#9c179e"
             ],
             [
              0.4444444444444444,
              "#bd3786"
             ],
             [
              0.5555555555555556,
              "#d8576b"
             ],
             [
              0.6666666666666666,
              "#ed7953"
             ],
             [
              0.7777777777777778,
              "#fb9f3a"
             ],
             [
              0.8888888888888888,
              "#fdca26"
             ],
             [
              1,
              "#f0f921"
             ]
            ],
            "type": "histogram2dcontour"
           }
          ],
          "mesh3d": [
           {
            "colorbar": {
             "outlinewidth": 0,
             "ticks": ""
            },
            "type": "mesh3d"
           }
          ],
          "parcoords": [
           {
            "line": {
             "colorbar": {
              "outlinewidth": 0,
              "ticks": ""
             }
            },
            "type": "parcoords"
           }
          ],
          "pie": [
           {
            "automargin": true,
            "type": "pie"
           }
          ],
          "scatter": [
           {
            "fillpattern": {
             "fillmode": "overlay",
             "size": 10,
             "solidity": 0.2
            },
            "type": "scatter"
           }
          ],
          "scatter3d": [
           {
            "line": {
             "colorbar": {
              "outlinewidth": 0,
              "ticks": ""
             }
            },
            "marker": {
             "colorbar": {
              "outlinewidth": 0,
              "ticks": ""
             }
            },
            "type": "scatter3d"
           }
          ],
          "scattercarpet": [
           {
            "marker": {
             "colorbar": {
              "outlinewidth": 0,
              "ticks": ""
             }
            },
            "type": "scattercarpet"
           }
          ],
          "scattergeo": [
           {
            "marker": {
             "colorbar": {
              "outlinewidth": 0,
              "ticks": ""
             }
            },
            "type": "scattergeo"
           }
          ],
          "scattergl": [
           {
            "marker": {
             "colorbar": {
              "outlinewidth": 0,
              "ticks": ""
             }
            },
            "type": "scattergl"
           }
          ],
          "scattermapbox": [
           {
            "marker": {
             "colorbar": {
              "outlinewidth": 0,
              "ticks": ""
             }
            },
            "type": "scattermapbox"
           }
          ],
          "scatterpolar": [
           {
            "marker": {
             "colorbar": {
              "outlinewidth": 0,
              "ticks": ""
             }
            },
            "type": "scatterpolar"
           }
          ],
          "scatterpolargl": [
           {
            "marker": {
             "colorbar": {
              "outlinewidth": 0,
              "ticks": ""
             }
            },
            "type": "scatterpolargl"
           }
          ],
          "scatterternary": [
           {
            "marker": {
             "colorbar": {
              "outlinewidth": 0,
              "ticks": ""
             }
            },
            "type": "scatterternary"
           }
          ],
          "surface": [
           {
            "colorbar": {
             "outlinewidth": 0,
             "ticks": ""
            },
            "colorscale": [
             [
              0,
              "#0d0887"
             ],
             [
              0.1111111111111111,
              "#46039f"
             ],
             [
              0.2222222222222222,
              "#7201a8"
             ],
             [
              0.3333333333333333,
              "#9c179e"
             ],
             [
              0.4444444444444444,
              "#bd3786"
             ],
             [
              0.5555555555555556,
              "#d8576b"
             ],
             [
              0.6666666666666666,
              "#ed7953"
             ],
             [
              0.7777777777777778,
              "#fb9f3a"
             ],
             [
              0.8888888888888888,
              "#fdca26"
             ],
             [
              1,
              "#f0f921"
             ]
            ],
            "type": "surface"
           }
          ],
          "table": [
           {
            "cells": {
             "fill": {
              "color": "#EBF0F8"
             },
             "line": {
              "color": "white"
             }
            },
            "header": {
             "fill": {
              "color": "#C8D4E3"
             },
             "line": {
              "color": "white"
             }
            },
            "type": "table"
           }
          ]
         },
         "layout": {
          "annotationdefaults": {
           "arrowcolor": "#2a3f5f",
           "arrowhead": 0,
           "arrowwidth": 1
          },
          "autotypenumbers": "strict",
          "coloraxis": {
           "colorbar": {
            "outlinewidth": 0,
            "ticks": ""
           }
          },
          "colorscale": {
           "diverging": [
            [
             0,
             "#8e0152"
            ],
            [
             0.1,
             "#c51b7d"
            ],
            [
             0.2,
             "#de77ae"
            ],
            [
             0.3,
             "#f1b6da"
            ],
            [
             0.4,
             "#fde0ef"
            ],
            [
             0.5,
             "#f7f7f7"
            ],
            [
             0.6,
             "#e6f5d0"
            ],
            [
             0.7,
             "#b8e186"
            ],
            [
             0.8,
             "#7fbc41"
            ],
            [
             0.9,
             "#4d9221"
            ],
            [
             1,
             "#276419"
            ]
           ],
           "sequential": [
            [
             0,
             "#0d0887"
            ],
            [
             0.1111111111111111,
             "#46039f"
            ],
            [
             0.2222222222222222,
             "#7201a8"
            ],
            [
             0.3333333333333333,
             "#9c179e"
            ],
            [
             0.4444444444444444,
             "#bd3786"
            ],
            [
             0.5555555555555556,
             "#d8576b"
            ],
            [
             0.6666666666666666,
             "#ed7953"
            ],
            [
             0.7777777777777778,
             "#fb9f3a"
            ],
            [
             0.8888888888888888,
             "#fdca26"
            ],
            [
             1,
             "#f0f921"
            ]
           ],
           "sequentialminus": [
            [
             0,
             "#0d0887"
            ],
            [
             0.1111111111111111,
             "#46039f"
            ],
            [
             0.2222222222222222,
             "#7201a8"
            ],
            [
             0.3333333333333333,
             "#9c179e"
            ],
            [
             0.4444444444444444,
             "#bd3786"
            ],
            [
             0.5555555555555556,
             "#d8576b"
            ],
            [
             0.6666666666666666,
             "#ed7953"
            ],
            [
             0.7777777777777778,
             "#fb9f3a"
            ],
            [
             0.8888888888888888,
             "#fdca26"
            ],
            [
             1,
             "#f0f921"
            ]
           ]
          },
          "colorway": [
           "#636efa",
           "#EF553B",
           "#00cc96",
           "#ab63fa",
           "#FFA15A",
           "#19d3f3",
           "#FF6692",
           "#B6E880",
           "#FF97FF",
           "#FECB52"
          ],
          "font": {
           "color": "#2a3f5f"
          },
          "geo": {
           "bgcolor": "white",
           "lakecolor": "white",
           "landcolor": "#E5ECF6",
           "showlakes": true,
           "showland": true,
           "subunitcolor": "white"
          },
          "hoverlabel": {
           "align": "left"
          },
          "hovermode": "closest",
          "mapbox": {
           "style": "light"
          },
          "paper_bgcolor": "white",
          "plot_bgcolor": "#E5ECF6",
          "polar": {
           "angularaxis": {
            "gridcolor": "white",
            "linecolor": "white",
            "ticks": ""
           },
           "bgcolor": "#E5ECF6",
           "radialaxis": {
            "gridcolor": "white",
            "linecolor": "white",
            "ticks": ""
           }
          },
          "scene": {
           "xaxis": {
            "backgroundcolor": "#E5ECF6",
            "gridcolor": "white",
            "gridwidth": 2,
            "linecolor": "white",
            "showbackground": true,
            "ticks": "",
            "zerolinecolor": "white"
           },
           "yaxis": {
            "backgroundcolor": "#E5ECF6",
            "gridcolor": "white",
            "gridwidth": 2,
            "linecolor": "white",
            "showbackground": true,
            "ticks": "",
            "zerolinecolor": "white"
           },
           "zaxis": {
            "backgroundcolor": "#E5ECF6",
            "gridcolor": "white",
            "gridwidth": 2,
            "linecolor": "white",
            "showbackground": true,
            "ticks": "",
            "zerolinecolor": "white"
           }
          },
          "shapedefaults": {
           "line": {
            "color": "#2a3f5f"
           }
          },
          "ternary": {
           "aaxis": {
            "gridcolor": "white",
            "linecolor": "white",
            "ticks": ""
           },
           "baxis": {
            "gridcolor": "white",
            "linecolor": "white",
            "ticks": ""
           },
           "bgcolor": "#E5ECF6",
           "caxis": {
            "gridcolor": "white",
            "linecolor": "white",
            "ticks": ""
           }
          },
          "title": {
           "x": 0.05
          },
          "xaxis": {
           "automargin": true,
           "gridcolor": "white",
           "linecolor": "white",
           "ticks": "",
           "title": {
            "standoff": 15
           },
           "zerolinecolor": "white",
           "zerolinewidth": 2
          },
          "yaxis": {
           "automargin": true,
           "gridcolor": "white",
           "linecolor": "white",
           "ticks": "",
           "title": {
            "standoff": 15
           },
           "zerolinecolor": "white",
           "zerolinewidth": 2
          }
         }
        },
        "width": 800
       }
      }
     },
     "metadata": {},
     "output_type": "display_data"
    }
   ],
   "source": [
    "predicted_coord_mat_np = predicted_coord_mat.detach().numpy()\n",
    "\n",
    "fig = px.scatter_3d(\n",
    "    x=predicted_coord_mat_np[0, :],\n",
    "    y=predicted_coord_mat_np[1, :],\n",
    "    z=predicted_coord_mat_np[2, :],\n",
    ")\n",
    "fig.update_layout(width=800)\n",
    "fig.show()"
   ]
  }
 ],
 "metadata": {
  "kernelspec": {
   "display_name": "amlg",
   "language": "python",
   "name": "python3"
  },
  "language_info": {
   "codemirror_mode": {
    "name": "ipython",
    "version": 3
   },
   "file_extension": ".py",
   "mimetype": "text/x-python",
   "name": "python",
   "nbconvert_exporter": "python",
   "pygments_lexer": "ipython3",
   "version": "3.11.6"
  }
 },
 "nbformat": 4,
 "nbformat_minor": 2
}
