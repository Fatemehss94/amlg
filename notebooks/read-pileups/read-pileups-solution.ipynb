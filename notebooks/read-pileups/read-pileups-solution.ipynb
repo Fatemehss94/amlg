{
 "cells": [
  {
   "cell_type": "markdown",
   "metadata": {},
   "source": [
    "# **Generation of Read Pileups**"
   ]
  },
  {
   "cell_type": "markdown",
   "metadata": {},
   "source": [
    "First, let's download the data for this notebook.\n",
    "\n",
    "The following commands will download (`wget`) the file `read-pileups.tar.gz` and then unarchive and decompress it (`tar`), resulting in the folder `read-pileups/`.\n",
    "Then, the folder will be renamed (`mv`) to `data/`, and the now superfluous file `read-pileups.tar.gz` will be removed (`rm`)."
   ]
  },
  {
   "cell_type": "code",
   "execution_count": 10,
   "metadata": {},
   "outputs": [
    {
     "name": "stdout",
     "output_type": "stream",
     "text": [
      "--2023-10-30 22:31:34--  http://www.tnt.uni-hannover.de/edu/vorlesungen/AMLG/data/read-pileups.tar.gz\n",
      "Resolving www.tnt.uni-hannover.de (www.tnt.uni-hannover.de)... 130.75.31.71\n",
      "Connecting to www.tnt.uni-hannover.de (www.tnt.uni-hannover.de)|130.75.31.71|:80... connected.\n",
      "HTTP request sent, awaiting response... 200 OK\n",
      "Length: 1446793 (1.4M) [application/x-gzip]\n",
      "Saving to: ‘read-pileups.tar.gz’\n",
      "\n",
      "read-pileups.tar.gz 100%[===================>]   1.38M  6.97MB/s    in 0.2s    \n",
      "\n",
      "2023-10-30 22:31:34 (6.97 MB/s) - ‘read-pileups.tar.gz’ saved [1446793/1446793]\n",
      "\n",
      "x read-pileups/\n",
      "x read-pileups/e-coli-dh10b.fasta\n",
      "read-pileups/ -> data/\n",
      "read-pileups.tar.gz\n"
     ]
    }
   ],
   "source": [
    "! wget http://www.tnt.uni-hannover.de/edu/vorlesungen/AMLG/data/read-pileups.tar.gz\n",
    "! tar -xzvf read-pileups.tar.gz\n",
    "! mv -v read-pileups/ data/\n",
    "! rm -v read-pileups.tar.gz"
   ]
  },
  {
   "cell_type": "markdown",
   "metadata": {},
   "source": [
    "# DNA sequencing simulation"
   ]
  },
  {
   "cell_type": "markdown",
   "metadata": {},
   "source": [
    "By randomly sampling substrings from a larger reference sequence, we can simulate an error-free DNA sequencing process."
   ]
  },
  {
   "cell_type": "markdown",
   "metadata": {},
   "source": [
    "##### ❓ **Q1.1** &mdash; Sampling reads from a reference sequence"
   ]
  },
  {
   "cell_type": "markdown",
   "metadata": {},
   "source": [
    "Complete the function `sample_reads()` to sample `n_reads` reads from the string `reference_sequence` with a minimum/maximum read length of `min_read_len`/`max_read_len`.\n",
    "A read shall be stored in a dictionary that contains two key-value pairs: the 0-based mapping position of the read on the reference sequence (key `'pos'`) and the read sequence (key `'seq'`).\n",
    "The function shall hence return a list (of length `n_reads`) of dictionaries.\n",
    "\n",
    "This is how an example dictionary might look like:\n",
    "\n",
    "```\n",
    "{'pos': 4, 'seq': 'TTTCATTCTGACTGCAACGGGCAATA'}\n",
    "```"
   ]
  },
  {
   "cell_type": "code",
   "execution_count": 11,
   "metadata": {},
   "outputs": [],
   "source": [
    "import random\n",
    "\n",
    "\n",
    "def sample_reads(\n",
    "    reference_sequence: str, n_reads: int, min_read_len: int, max_read_len: int\n",
    ") -> list[dict]:\n",
    "    reads = []\n",
    "\n",
    "    while len(reads) < n_reads:\n",
    "        range_acquired = False\n",
    "        while not range_acquired:\n",
    "            start_position = random.randrange(len(reference_sequence))\n",
    "            end_position = random.randrange(len(reference_sequence))\n",
    "            if start_position > end_position:\n",
    "                continue\n",
    "            range_len = end_position - start_position + 1\n",
    "            if range_len < min_read_len or range_len > max_read_len:\n",
    "                continue\n",
    "            range_acquired = True\n",
    "        read = reference_sequence[start_position : (end_position + 1)]\n",
    "        reads.append({\"pos\": start_position, \"seq\": read})\n",
    "\n",
    "    return reads"
   ]
  },
  {
   "cell_type": "markdown",
   "metadata": {},
   "source": [
    "##### ❓ **Q1.2** &mdash; Sampling reads from a reference sequence"
   ]
  },
  {
   "cell_type": "markdown",
   "metadata": {},
   "source": [
    "Now use the function `sample_reads()` to sample 20 reads from the following reference sequence:\n",
    "\n",
    "```\n",
    "AGCTTTTCATTCTGACTGCAACGGGCAATATGTCTCTGTGTGGATTAAAAAAAGAGTGTCTGATAGCAGC\n",
    "```\n",
    "\n",
    "Set the other parameters as follows: `n_reads=20`, `min_read_len=15`, `max_read_len=40`."
   ]
  },
  {
   "cell_type": "code",
   "execution_count": 12,
   "metadata": {},
   "outputs": [
    {
     "name": "stdout",
     "output_type": "stream",
     "text": [
      "[{'pos': 8, 'seq': 'ATTCTGACTGCAACG'}, {'pos': 3, 'seq': 'TTTTCATTCTGACTGCAACGGGCAATATGTCTC'}, {'pos': 16, 'seq': 'TGCAACGGGCAATATGTCTCTGTGTGGATTAAAA'}, {'pos': 12, 'seq': 'TGACTGCAACGGGCAATATGTCTCTGTGTGGATTAAA'}, {'pos': 32, 'seq': 'TCTCTGTGTGGATTAAAAAAAGA'}, {'pos': 13, 'seq': 'GACTGCAACGGGCAATATGTCTCTGTGTGGATTAAA'}, {'pos': 3, 'seq': 'TTTTCATTCTGACTGCAACGGGCAATATGTCTCTGT'}, {'pos': 33, 'seq': 'CTCTGTGTGGATTAAAAAAAGAGTGTCTG'}, {'pos': 5, 'seq': 'TTCATTCTGACTGCAACGGGCAATATGTCTCTGT'}, {'pos': 38, 'seq': 'TGTGGATTAAAAAAAGAGTGTCTGAT'}, {'pos': 43, 'seq': 'ATTAAAAAAAGAGTGTCTGATAGCAGC'}, {'pos': 45, 'seq': 'TAAAAAAAGAGTGTCTG'}, {'pos': 43, 'seq': 'ATTAAAAAAAGAGTGTCTGATAG'}, {'pos': 50, 'seq': 'AAAGAGTGTCTGATAGCAGC'}, {'pos': 21, 'seq': 'CGGGCAATATGTCTCTGTGTGGATTAAA'}, {'pos': 26, 'seq': 'AATATGTCTCTGTGTGGATTAAAA'}, {'pos': 17, 'seq': 'GCAACGGGCAATATGTCTCTGTGTGGATTAAAA'}, {'pos': 39, 'seq': 'GTGGATTAAAAAAAGAGTGTCTGATAGCAGC'}, {'pos': 13, 'seq': 'GACTGCAACGGGCAATAT'}, {'pos': 46, 'seq': 'AAAAAAAGAGTGTCT'}]\n"
     ]
    }
   ],
   "source": [
    "reference_sequence = (\n",
    "    \"AGCTTTTCATTCTGACTGCAACGGGCAATATGTCTCTGTGTGGATTAAAAAAAGAGTGTCTGATAGCAGC\"\n",
    ")\n",
    "\n",
    "reads = sample_reads(\n",
    "    reference_sequence=reference_sequence, n_reads=20, min_read_len=15, max_read_len=40\n",
    ")\n",
    "\n",
    "print(reads)"
   ]
  },
  {
   "cell_type": "markdown",
   "metadata": {},
   "source": [
    "##### ❓ **Q1.3** &mdash; Sampling reads from a reference sequence"
   ]
  },
  {
   "cell_type": "markdown",
   "metadata": {},
   "source": [
    "Now print the reference sequence and all sampled reads such that the reads visually align with the reference sequence.\n",
    "\n",
    "This is how the printout should look like:\n",
    "\n",
    "```\n",
    "Reference: AGCTTTTCATTCTGACTGCAACGGGCAATATGTCTCTG...\n",
    "Read    0:    TTTTCATTCTGACTGCAACGGGCAA\n",
    "Read    1:             TGACTGCAACGGGCAATATGTC\n",
    "```"
   ]
  },
  {
   "cell_type": "code",
   "execution_count": 13,
   "metadata": {},
   "outputs": [
    {
     "name": "stdout",
     "output_type": "stream",
     "text": [
      "Reference: AGCTTTTCATTCTGACTGCAACGGGCAATATGTCTCTGTGTGGATTAAAAAAAGAGTGTCTGATAGCAGC\n",
      "Read    0:         ATTCTGACTGCAACG\n",
      "Read    1:    TTTTCATTCTGACTGCAACGGGCAATATGTCTC\n",
      "Read    2:                 TGCAACGGGCAATATGTCTCTGTGTGGATTAAAA\n",
      "Read    3:             TGACTGCAACGGGCAATATGTCTCTGTGTGGATTAAA\n",
      "Read    4:                                 TCTCTGTGTGGATTAAAAAAAGA\n",
      "Read    5:              GACTGCAACGGGCAATATGTCTCTGTGTGGATTAAA\n",
      "Read    6:    TTTTCATTCTGACTGCAACGGGCAATATGTCTCTGT\n",
      "Read    7:                                  CTCTGTGTGGATTAAAAAAAGAGTGTCTG\n",
      "Read    8:      TTCATTCTGACTGCAACGGGCAATATGTCTCTGT\n",
      "Read    9:                                       TGTGGATTAAAAAAAGAGTGTCTGAT\n",
      "Read   10:                                            ATTAAAAAAAGAGTGTCTGATAGCAGC\n",
      "Read   11:                                              TAAAAAAAGAGTGTCTG\n",
      "Read   12:                                            ATTAAAAAAAGAGTGTCTGATAG\n",
      "Read   13:                                                   AAAGAGTGTCTGATAGCAGC\n",
      "Read   14:                      CGGGCAATATGTCTCTGTGTGGATTAAA\n",
      "Read   15:                           AATATGTCTCTGTGTGGATTAAAA\n",
      "Read   16:                  GCAACGGGCAATATGTCTCTGTGTGGATTAAAA\n",
      "Read   17:                                        GTGGATTAAAAAAAGAGTGTCTGATAGCAGC\n",
      "Read   18:              GACTGCAACGGGCAATAT\n",
      "Read   19:                                               AAAAAAAGAGTGTCT\n"
     ]
    }
   ],
   "source": [
    "print(f\"Reference: {reference_sequence}\")\n",
    "for i, read in enumerate(reads):\n",
    "    print(f\"Read {i:4}: {' ' * read['pos']}{read['seq']}\")"
   ]
  },
  {
   "cell_type": "markdown",
   "metadata": {},
   "source": [
    "# Pileups, sequencing depth, and coverage"
   ]
  },
  {
   "cell_type": "markdown",
   "metadata": {},
   "source": [
    "##### ❓ **Q2.1** &mdash; Computing read pileups"
   ]
  },
  {
   "cell_type": "markdown",
   "metadata": {},
   "source": [
    "Complete the function `compute_pileup_sizes()` and use it to compute the pileup size (i.e., sequencing depth) at each position of the reference sequence."
   ]
  },
  {
   "cell_type": "code",
   "execution_count": 14,
   "metadata": {},
   "outputs": [
    {
     "name": "stdout",
     "output_type": "stream",
     "text": [
      "[ 0.  0.  0.  2.  2.  3.  3.  3.  4.  4.  4.  4.  5.  7.  7.  7.  8.  9.\n",
      "  9.  9.  9. 10. 10.  9.  9.  9. 10. 10. 10. 10. 10.  9. 10. 11. 11. 11.\n",
      " 10. 10. 11. 10. 10. 10. 10. 12. 12. 13. 14. 14. 14. 11.  9.  9.  9.  9.\n",
      "  9.  8.  8.  8.  8.  8.  8.  7.  5.  5.  4.  4.  3.  3.  3.  3.]\n"
     ]
    }
   ],
   "source": [
    "import numpy as np\n",
    "\n",
    "\n",
    "def compute_pileup_sizes(reference_sequence: str, reads: list[dict]) -> np.array:\n",
    "    pileup_sizes = np.zeros(shape=len(reference_sequence))\n",
    "\n",
    "    for read in reads:\n",
    "        for offset, _ in enumerate(read[\"seq\"]):\n",
    "            pileup_sizes[read[\"pos\"] + offset] += 1\n",
    "\n",
    "    return pileup_sizes\n",
    "\n",
    "\n",
    "pileup_sizes = compute_pileup_sizes(reference_sequence=reference_sequence, reads=reads)\n",
    "\n",
    "print(pileup_sizes)"
   ]
  },
  {
   "cell_type": "markdown",
   "metadata": {},
   "source": [
    "##### ❓ **Q2.2** &mdash; Computing the coverage"
   ]
  },
  {
   "cell_type": "markdown",
   "metadata": {},
   "source": [
    "Complete the function `coverage()` and use it to compute the coverage (i.e., the average sequencing depth) across all positions of the reference sequence."
   ]
  },
  {
   "cell_type": "code",
   "execution_count": 15,
   "metadata": {},
   "outputs": [
    {
     "name": "stdout",
     "output_type": "stream",
     "text": [
      "Coverage: 7.7\n"
     ]
    }
   ],
   "source": [
    "def coverage(pileup_sizes: np.array) -> float:\n",
    "    return sum(pileup_sizes) / len(pileup_sizes)\n",
    "\n",
    "\n",
    "print(f\"Coverage: {coverage(pileup_sizes=pileup_sizes):.2}\")"
   ]
  },
  {
   "cell_type": "markdown",
   "metadata": {},
   "source": [
    "##### ❓ **Q2.3** &mdash; Visualizing pileups"
   ]
  },
  {
   "cell_type": "markdown",
   "metadata": {},
   "source": [
    "Plot the pileups and the coverage using `matplotlib.pyplot.bar()` for the pileups and `matplotlib.pyplot.axhline()` for the coverage."
   ]
  },
  {
   "cell_type": "code",
   "execution_count": 16,
   "metadata": {},
   "outputs": [
    {
     "data": {
      "image/png": "[encoded data removed]",
      "text/plain": [
       "<Figure size 1000x400 with 1 Axes>"
      ]
     },
     "metadata": {},
     "output_type": "display_data"
    }
   ],
   "source": [
    "import matplotlib.pyplot as plt\n",
    "\n",
    "\n",
    "def plot_pileups(reference_sequence: str, pileup_sizes: np.array):\n",
    "    fig = plt.figure(figsize=(10, 4))\n",
    "    plt.bar(x=range(len(reference_sequence)), height=pileup_sizes)\n",
    "    plt.axhline(y=coverage(pileup_sizes=pileup_sizes), color=\"r\")\n",
    "    plt.xlabel(\"position\")\n",
    "    plt.ylabel(\"pileup size\")\n",
    "    plt.show()\n",
    "\n",
    "\n",
    "plot_pileups(reference_sequence=reference_sequence, pileup_sizes=pileup_sizes)"
   ]
  },
  {
   "cell_type": "markdown",
   "metadata": {},
   "source": [
    "# Simulating the sequencing of an _E. coli_ genome"
   ]
  },
  {
   "cell_type": "markdown",
   "metadata": {},
   "source": [
    "To provide a more realistic example, we provide the reference genome of _E. coli_ strain DH10B as FASTA file `e-coli-dh10b.fasta` (in the `data/` folder).\n",
    "\n",
    "> _E. coli_ is a bacterium that is commonly found in the lower intestine of warm-blooded organisms.\n",
    "> It has a circular DNA molecule approximately 4.6 million base pairs in length, containing more than 4000 protein-coding genes (organized into more than 2500 operons), and several ribosomal RNA (rRNA) operons as well as dozens of transfer RNA (tRNA) genes.\n",
    "\n",
    "> The [FASTA format](https://en.wikipedia.org/wiki/FASTA_format) is a text-based format for representing either nucleotide sequences or amino acid (protein) sequences, in which nucleotides or amino acids are represented using single-letter codes.\n",
    ">\n",
    "> The format allows for sequence names and comments to precede the sequences.\n",
    "> It originated from the [FASTA software package](https://en.wikipedia.org/wiki/FASTA), but has become a de-facto standard.\n",
    ">\n",
    "> A sequence begins with a greater-than character (`>`) immediately followed by a description of the sequence (all in a single line).\n",
    "> The next lines immediately following the description line are the sequence representation, with one letter per amino acid or nucleic acid.\n",
    "> An example of a multiple sequence FASTA file follows.\n",
    ">\n",
    "> ```\n",
    "> >SEQUENCE_1\n",
    "> MTEITAAMVKELRESTGAGMMDCKNALSETNGDFDKAVQLLREKGLGKAAKKADRLAAEG\n",
    "> LVSVKVSDDFTIAAMRPSYLSYEDLDMTFVEN\n",
    "> >SEQUENCE_2\n",
    "> SATVSEINSETDFVAKNDQFIALTKDTTAHIQSNSLQSVEELHSSTINGVKFEEYLKSQI\n",
    "> ATIGENLVVRRFATLKAGANGVVNGYIHTNGRVGVVIAAACDSAEVASKSRDLLRQICMH\n",
    "> ```"
   ]
  },
  {
   "cell_type": "markdown",
   "metadata": {},
   "source": [
    "##### ❓ **Q3.1** &mdash; Reading FASTA files"
   ]
  },
  {
   "cell_type": "markdown",
   "metadata": {},
   "source": [
    "Complete the function `read_fasta_file()` to read a FASTA file into a dictionary.\n",
    "In the dictionary, the sequence descriptions are the keys, and the actual sequences are the values.\n",
    "Use the function to read in `e-coli-dh10b.fasta`."
   ]
  },
  {
   "cell_type": "code",
   "execution_count": 17,
   "metadata": {},
   "outputs": [
    {
     "name": "stdout",
     "output_type": "stream",
     "text": [
      "Read E. coli genome with length 4,687,487.\n"
     ]
    }
   ],
   "source": [
    "def read_fasta_file(file_path: str) -> dict[str, str]:\n",
    "    with open(file=file_path, mode=\"r\") as file:\n",
    "        sequences = {}\n",
    "\n",
    "        # Read the file line by line\n",
    "        for line in file:\n",
    "            # Process each line\n",
    "            line = line.strip()\n",
    "            if line.startswith(\">\"):\n",
    "                current_description = line[1:]\n",
    "                sequences[current_description] = \"\"\n",
    "            else:\n",
    "                sequences[current_description] += line\n",
    "\n",
    "        return sequences\n",
    "\n",
    "\n",
    "ecoli_genome = read_fasta_file(file_path=\"data/e-coli-dh10b.fasta\")\n",
    "ecoli_genome_sequence = ecoli_genome[\n",
    "    \"NZ_CP110018.1 Escherichia coli strain DH10B chromosome, complete genome\"\n",
    "]\n",
    "\n",
    "print(f\"Read E. coli genome with length {len(ecoli_genome_sequence):,}.\")"
   ]
  },
  {
   "cell_type": "markdown",
   "metadata": {},
   "source": [
    "##### ❓ **Q3.2** &mdash; Visualizing _E. coli_ pileups"
   ]
  },
  {
   "cell_type": "markdown",
   "metadata": {},
   "source": [
    "Now do the following for the _E. coli_ genome:\n",
    "\n",
    "1. Truncate the genome to a length of 1000 bases.\n",
    "2. Sample 1000 reads with a minimum/maximum length of 100/250.\n",
    "3. Compute the pileup sizes.\n",
    "4. Plot the pileup sizes and the coverage."
   ]
  },
  {
   "cell_type": "code",
   "execution_count": 18,
   "metadata": {},
   "outputs": [
    {
     "data": {
      "image/png": "[encoded data removed]",
      "text/plain": [
       "<Figure size 1000x400 with 1 Axes>"
      ]
     },
     "metadata": {},
     "output_type": "display_data"
    }
   ],
   "source": [
    "ecoli_genome_sequence_truncated = ecoli_genome_sequence[:1000]\n",
    "\n",
    "reads = sample_reads(\n",
    "    reference_sequence=ecoli_genome_sequence_truncated,\n",
    "    n_reads=1000,\n",
    "    min_read_len=100,\n",
    "    max_read_len=250,\n",
    ")\n",
    "\n",
    "pileup_sizes = compute_pileup_sizes(\n",
    "    reference_sequence=ecoli_genome_sequence_truncated, reads=reads\n",
    ")\n",
    "\n",
    "plot_pileups(\n",
    "    reference_sequence=ecoli_genome_sequence_truncated, pileup_sizes=pileup_sizes\n",
    ")"
   ]
  }
 ],
 "metadata": {
  "kernelspec": {
   "display_name": "amlg",
   "language": "python",
   "name": "python3"
  },
  "language_info": {
   "codemirror_mode": {
    "name": "ipython",
    "version": 3
   },
   "file_extension": ".py",
   "mimetype": "text/x-python",
   "name": "python",
   "nbconvert_exporter": "python",
   "pygments_lexer": "ipython3",
   "version": "3.11.6"
  }
 },
 "nbformat": 4,
 "nbformat_minor": 2
}
