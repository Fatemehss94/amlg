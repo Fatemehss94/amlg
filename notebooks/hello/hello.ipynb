{
 "cells": [
  {
   "cell_type": "markdown",
   "id": "592d322d",
   "metadata": {},
   "source": [
    "# **Hello**"
   ]
  },
  {
   "cell_type": "markdown",
   "id": "836822b6",
   "metadata": {},
   "source": [
    "And welcome to the **[Applied Machine Learning in Genomic Data Science](https://www.tnt.uni-hannover.de/edu/vorlesungen/AMLG/)** (AMLG) course!"
   ]
  },
  {
   "cell_type": "markdown",
   "id": "db91c9e4",
   "metadata": {},
   "source": [
    "# Jupyter Notebooks"
   ]
  },
  {
   "cell_type": "markdown",
   "id": "4ca601c6",
   "metadata": {},
   "source": [
    "In this course, all exercises are provided as [Jupyter](https://jupyter.org) Notebooks.\n",
    "\n",
    "> A Jupyter Notebook is a [JSON](https://en.wikipedia.org/wiki/JSON) file, following a versioned schema, usually ending with the `.ipynb` extension.\n",
    "> The main part of a Jupyter Notebooks is a list of cells.\n",
    "> List of cells are different types of cells for [Markdown](https://en.wikipedia.org/wiki/Markdown) (display), code (to execute), and output of the code type cells.\n",
    "\n",
    "The AMLG Jupyter Notebooks are hosted at https://gitlab.gwdg.de/jan.voges/amlg-release.\n",
    "(You might wonder why the repository is called ...-_release_; that's because there is another&nbsp;&mdash;&nbsp;private&nbsp;&mdash;&nbsp;repository named `amlg-develop`, which is used internally for development prior to ... well, releasing.)\n",
    "\n",
    "> NB: As a student enrolled at a university in Lower Saxony, you are entitled to use [GitLab](https://docs.gitlab.com) and the other services provided through the [Academic Cloud](https://academiccloud.de).\n",
    "> (There is also e.g., a [Mastodon instance](https://academiccloud.social/about), [cloud storage](https://sync.academiccloud.de), an [Overleaf instance](https://sharelatex.gwdg.de/saml/login), as well as a [URL shortener](https://url.gwdg.de).)"
   ]
  },
  {
   "cell_type": "markdown",
   "id": "0fd5613b",
   "metadata": {},
   "source": [
    "# Working with the `amlg-release` repository"
   ]
  },
  {
   "cell_type": "markdown",
   "id": "9e6a447b",
   "metadata": {},
   "source": [
    "## On your own computer"
   ]
  },
  {
   "cell_type": "markdown",
   "id": "8bc02404-8cd1-46d9-8237-2d035ebb3e79",
   "metadata": {},
   "source": [
    "You can simply [clone](https://git-scm.com/docs/git-clone) the repository over HTTP via the command line:\n",
    "\n",
    "```shell\n",
    "git clone https://gitlab.gwdg.de/jan.voges/amlg-release.git\n",
    "```\n",
    "\n",
    "> [Git](https://en.wikipedia.org/wiki/Git) is likely already installed in any Linux distribution.\n",
    "> On Windows systems we recommend to use the [Windows Subsystem for Linux](https://learn.microsoft.com/en-us/windows/wsl/install) together with any long-term support (LTS) Ubuntu distribution.\n",
    "> Please refer to [Ubuntu's documentation](https://ubuntu.com/tutorials/install-ubuntu-on-wsl2-on-windows-10#1-overview) for the installation.\n",
    "> On Mac systems, we recommend to install Git through the Xcode command line tools (via `xcode-select --install`), or via [Homebrew](https://brew.sh).\n",
    "\n",
    "To work locally with Jupyter Notebooks, we recommend [Visual Studio Code with its Jupyter extensions](https://code.visualstudio.com/docs/datascience/jupyter-notebooks)."
   ]
  },
  {
   "cell_type": "markdown",
   "id": "47719987",
   "metadata": {},
   "source": [
    "## On an online Jupyter server"
   ]
  },
  {
   "cell_type": "markdown",
   "id": "e75a9eda",
   "metadata": {},
   "source": [
    "On the [GWDG Jupyter Cloud](https://jupyter-cloud.gwdg.de) you can use&nbsp;&mdash;&nbsp;in addition to the terminal&nbsp;&mdash;&nbsp;the graphical user interface to clone the repository:\n",
    "\n",
    "<img src=\"gwdg-jupyter-cloud-git.png\" width=\"600\" />\n",
    "\n",
    "As an alternative, you can also copy and run any Jupyter Notebook on any other online Jupyter server, e.g., [Google Colab](https://colab.research.google.com)."
   ]
  }
 ],
 "metadata": {
  "kernelspec": {
   "display_name": "Python 3 (ipykernel)",
   "language": "python",
   "name": "python3"
  },
  "language_info": {
   "codemirror_mode": {
    "name": "ipython",
    "version": 3
   },
   "file_extension": ".py",
   "mimetype": "text/x-python",
   "name": "python",
   "nbconvert_exporter": "python",
   "pygments_lexer": "ipython3",
   "version": "3.11.6"
  }
 },
 "nbformat": 4,
 "nbformat_minor": 5
}
