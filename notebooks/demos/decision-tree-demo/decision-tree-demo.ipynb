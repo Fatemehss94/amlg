{
 "cells": [
  {
   "attachments": {},
   "cell_type": "markdown",
   "metadata": {},
   "source": [
    "# **Decision Tree Demo**"
   ]
  },
  {
   "cell_type": "markdown",
   "metadata": {},
   "source": [
    "Here we use the [Breast Cancer Wisconsin (Diagnostic) dataset](https://archive.ics.uci.edu/dataset/17/breast+cancer+wisconsin+diagnostic) which contains features that are computed from a digitized image of a fine needle aspirate (FNA) of a breast mass.\n",
    "They describe characteristics of the cell nuclei present in the image."
   ]
  },
  {
   "cell_type": "code",
   "execution_count": null,
   "metadata": {},
   "outputs": [],
   "source": [
    "from sklearn.datasets import load_breast_cancer\n",
    "from sklearn.tree import DecisionTreeClassifier\n",
    "from sklearn.tree import plot_tree\n",
    "from matplotlib import pyplot as plt\n",
    "import os\n",
    "\n",
    "# Load the Wisconsin Breast Cancer (Diagnostic) dataset\n",
    "wbcd_dataset = load_breast_cancer()\n",
    "feature_names = wbcd_dataset.feature_names\n",
    "class_names = wbcd_dataset.target_names\n",
    "print(f\"Feature names:{os.linesep}{feature_names}\")\n",
    "print(f\"Class names:{os.linesep}{class_names}\")\n",
    "X, y = wbcd_dataset.data, wbcd_dataset.target\n",
    "\n",
    "# Initialize and train the DecisionTreeClassifier\n",
    "clf = DecisionTreeClassifier(criterion=\"entropy\", splitter=\"best\", max_depth=4)\n",
    "clf = clf.fit(X=X, y=y)\n",
    "\n",
    "# Visualize the decision tree\n",
    "plt.figure(figsize=(24, 8))\n",
    "plot_tree(\n",
    "    clf, filled=True, feature_names=feature_names, class_names=class_names, fontsize=10\n",
    ")\n",
    "plt.show()"
   ]
  }
 ],
 "metadata": {
  "kernelspec": {
   "display_name": "amlg",
   "language": "python",
   "name": "python3"
  },
  "language_info": {
   "codemirror_mode": {
    "name": "ipython",
    "version": 3
   },
   "file_extension": ".py",
   "mimetype": "text/x-python",
   "name": "python",
   "nbconvert_exporter": "python",
   "pygments_lexer": "ipython3",
   "version": "3.12.5"
  },
  "orig_nbformat": 4
 },
 "nbformat": 4,
 "nbformat_minor": 2
}
