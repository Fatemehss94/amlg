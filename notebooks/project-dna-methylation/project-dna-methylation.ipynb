{
 "cells": [
  {
   "cell_type": "markdown",
   "id": "8bc02404-8cd1-46d9-8237-2d035ebb3e79",
   "metadata": {},
   "source": [
    "# **[Project] Modelling of DNA Methylation Information**"
   ]
  },
  {
   "cell_type": "markdown",
   "id": "d045710c",
   "metadata": {},
   "source": [
    "# Introduction"
   ]
  },
  {
   "cell_type": "markdown",
   "id": "8a599748",
   "metadata": {},
   "source": [
    "We provide human [nanopore sequencing](https://en.wikipedia.org/wiki/Nanopore_sequencing) data comprising:\n",
    "\n",
    "- the actual reads (i.e., base sequences),\n",
    "- non-hydroxy methylation information.\n",
    "\n",
    "> DNA methylation is a biological process by which methyl groups are added to the DNA molecule.\n",
    "> Methylation can change the activity of a DNA segment without changing the sequence.\n",
    "> When located in a gene promoter, DNA methylation typically acts to repress gene transcription.\n",
    "> Two of DNA's four bases, cytosine and adenine, can be methylated.\n",
    "> Cytosine methylation is widespread in both eukaryotes and prokaryotes; and hence we focus here on cytosine methylation only.\n",
    "\n",
    "The data was aligned to a reference genome, and the data pertaining to chromosome 20 was extracted.\n",
    "\n",
    "The data is in the [TSV format](https://en.wikipedia.org/wiki/Tab-separated_values) ([CSV](https://en.wikipedia.org/wiki/Comma-separated_values)-like with tabs as delimiter).\n",
    "\n",
    "Each file contains one read per line, comprising the following information:\n",
    "\n",
    "- First column: mapping position\n",
    "- Second column: DNA sequence\n",
    "- Third column: methylation data\n",
    "\n",
    "The methylation data is given as as comma-separated list of number of skipped Cs (remember: only C methylation is in focus here), i.e., the skipped bases are not methylated.\n",
    "\n",
    "As an example:\n",
    "\n",
    "```\n",
    "42   ACTGCCCTGCCCC   1,2,0\n",
    "         ^    ^^\n",
    "```\n",
    "\n",
    "The read starts at position 42; the marked Cs are methylated."
   ]
  },
  {
   "cell_type": "markdown",
   "id": "aff7e1ec",
   "metadata": {},
   "source": [
    "# Data access"
   ]
  },
  {
   "cell_type": "markdown",
   "id": "800fa7bd",
   "metadata": {},
   "source": [
    "The download from the TNT homepage is straightforward:"
   ]
  },
  {
   "cell_type": "code",
   "execution_count": null,
   "id": "dda97b16",
   "metadata": {},
   "outputs": [],
   "source": [
    "! wget http://www.tnt.uni-hannover.de/edu/vorlesungen/AMLG/data/project-dna-methylation.tar.gz\n",
    "! tar -xzvf project-dna-methylation.tar.gz\n",
    "! mv -v project-dna-methylation/ data/\n",
    "! rm -v project-dna-methylation.tar.gz"
   ]
  },
  {
   "cell_type": "markdown",
   "id": "cfcc76b0",
   "metadata": {},
   "source": [
    "In the `data/` folder you will now find the file `reads.tsv`.\n",
    "\n",
    "To start, you can read a TSV file into a [pandas](https://pandas.pydata.org) [`DataFrame`](pandas dataframe to dict) using the [`pandas.read_csv()`](https://pandas.pydata.org/docs/reference/api/pandas.read_csv.html#pandas-read-csv) function with the `sep` parameter set to `\\t`:"
   ]
  },
  {
   "cell_type": "code",
   "execution_count": null,
   "id": "b0f0b403",
   "metadata": {},
   "outputs": [],
   "source": [
    "import pandas as pd\n",
    "\n",
    "\n",
    "# Read the TSV file into a DataFrame\n",
    "df = pd.read_csv(filepath_or_buffer=\"data/reads.tsv\", sep=\"\\t\")\n",
    "\n",
    "# Display the first few rows of the DataFrame\n",
    "print(df.head())"
   ]
  }
 ],
 "metadata": {
  "kernelspec": {
   "display_name": "Python 3 (ipykernel)",
   "language": "python",
   "name": "python3"
  },
  "language_info": {
   "codemirror_mode": {
    "name": "ipython",
    "version": 3
   },
   "file_extension": ".py",
   "mimetype": "text/x-python",
   "name": "python",
   "nbconvert_exporter": "python",
   "pygments_lexer": "ipython3",
   "version": "3.11.6"
  }
 },
 "nbformat": 4,
 "nbformat_minor": 5
}
